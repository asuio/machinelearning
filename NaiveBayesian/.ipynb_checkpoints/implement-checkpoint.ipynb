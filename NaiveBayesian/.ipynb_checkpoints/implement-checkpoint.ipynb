{
 "cells": [
  {
   "cell_type": "code",
   "execution_count": 26,
   "metadata": {
    "collapsed": true
   },
   "outputs": [],
   "source": [
    "import numpy as np\n",
    "import math\n",
    "import copy\n",
    "# 初分类 对单独列进行元素和label的分类\n",
    "# 数据 西瓜书 第76页\n",
    "x = np.array(([[1,1,1,1,1,1,0.697,0.460],\n",
    "               [2,1,2,1,1,1,0.774,0.376],\n",
    "               [2,1,1,1,1,1,0.634,0.264],\n",
    "               [1,1,2,1,1,1,0.608,0.318],\n",
    "               [3,1,1,1,1,1,0.556,0.215],\n",
    "               [1,2,1,1,2,2,0.403,0.237],\n",
    "               [2,2,1,2,2,2,0.481,0.149],\n",
    "               [2,2,1,1,2,1,0.437,0.211],\n",
    "               [2,2,2,2,2,1,0.666,0.091],\n",
    "               [1,3,3,1,3,2,0.243,0.267],\n",
    "               [3,3,3,3,3,1,0.245,0.057],\n",
    "               [3,1,1,3,3,2,0.343,0.099],\n",
    "               [1,2,1,2,1,1,0.639,0.161],\n",
    "               [3,2,2,2,1,1,0.657,0.198],\n",
    "               [2,2,1,1,2,2,0.360,0.370],\n",
    "               [3,1,1,3,3,1,0.593,0.042],\n",
    "               [1,1,2,2,2,1,0.719,0.103]]))\n",
    "y = np.array(([1,1,1,1,1,1,1,1,0,0,0,0,0,0,0,0,0]))"
   ]
  },
  {
   "cell_type": "code",
   "execution_count": 21,
   "metadata": {
    "collapsed": true
   },
   "outputs": [],
   "source": [
    "class Column_Message:\n",
    "    enum = True #记录使用的变量是枚举型变量还是连续性变量。 Ture:是枚举型变量，False:是连续型变量  默认为True\n",
    "    factor_p = None # 字典:变量的值，以及当前label下的概率。{factor_1：P(factor_1|label),...factor_n：P(factor_n|label)}\n",
    "    mean = None # 连续性变量的均值\n",
    "    variance = None # 连续性变量的方差\n",
    "    \n",
    "    def calu_no_enum(selt,factor):\n",
    "        # 使用概率密度函数计算连续性变量\n",
    "         return 1/((math.sqrt(2*math.pi))*selt.variance)*math.exp(-pow((factor-selt.mean),2)/(2*pow(selt.variance,2)))"
   ]
  },
  {
   "cell_type": "code",
   "execution_count": 22,
   "metadata": {
    "collapsed": true
   },
   "outputs": [],
   "source": [
    "# \n",
    "def calu_label_p_and_divide_x(x,y):\n",
    "    count = len(y)\n",
    "    label_count = {} # 每个label的个数\n",
    "    label_list_x = {} # 每个label对应的x组成的数组\n",
    "    label_p = {} # 每个label 的概率\n",
    "    index = 0\n",
    "    for label in y:\n",
    "        keys = label_count.keys()\n",
    "        if label in keys:\n",
    "            label_count[label] = label_count[label] + 1\n",
    "        else:\n",
    "            label_count[label] = 1\n",
    "            label_list_x[label] = []\n",
    "        label_list_x[label].append(x[index])\n",
    "        index += 1\n",
    "    \n",
    "    labels = label_count.keys()\n",
    "    \n",
    "    for label in labels:\n",
    "        label_p[label] = label_count[label] / count\n",
    "    return (label_count, label_p, label_list_x)\n",
    "# label_count   {0: 9, 1: 8}\n",
    "# label_p     {0: 0.5294117647058824, 1: 0.47058823529411764}\n",
    "# label_list_x \n",
    "#{0: [array([ 2.   ,  2.   ,  2.   ,  2.   ,  2.   ,  1.   ,  0.666,  0.091]),\n",
    "#   array([ 1.   ,  3.   ,  3.   ,  1.   ,  3.   ,  2.   ,  0.243,  0.267]),\n",
    "#   array([ 3.   ,  3.   ,  3.   ,  3.   ,  3.   ,  1.   ,  0.245,  0.057]),\n",
    "#   array([ 3.   ,  1.   ,  1.   ,  3.   ,  3.   ,  2.   ,  0.343,  0.099]),\n",
    "#   array([ 1.   ,  2.   ,  1.   ,  2.   ,  1.   ,  1.   ,  0.639,  0.161]),\n",
    "#   array([ 3.   ,  2.   ,  2.   ,  2.   ,  1.   ,  1.   ,  0.657,  0.198]),\n",
    "#   array([ 2.  ,  2.  ,  1.  ,  1.  ,  2.  ,  2.  ,  0.36,  0.37]),\n",
    "#   array([ 3.   ,  1.   ,  1.   ,  3.   ,  3.   ,  1.   ,  0.593,  0.042]),\n",
    "#   array([ 1.   ,  1.   ,  2.   ,  2.   ,  2.   ,  1.   ,  0.719,  0.103])],\n",
    "#  1: [array([ 1.   ,  1.   ,  1.   ,  1.   ,  1.   ,  1.   ,  0.697,  0.46 ]),\n",
    "#   array([ 2.   ,  1.   ,  2.   ,  1.   ,  1.   ,  1.   ,  0.774,  0.376]),\n",
    "#   array([ 2.   ,  1.   ,  1.   ,  1.   ,  1.   ,  1.   ,  0.634,  0.264]),\n",
    "#   array([ 1.   ,  1.   ,  2.   ,  1.   ,  1.   ,  1.   ,  0.608,  0.318]),\n",
    "#   array([ 3.   ,  1.   ,  1.   ,  1.   ,  1.   ,  1.   ,  0.556,  0.215]),\n",
    "#   array([ 1.   ,  2.   ,  1.   ,  1.   ,  2.   ,  2.   ,  0.403,  0.237]),\n",
    "#   array([ 2.   ,  2.   ,  1.   ,  2.   ,  2.   ,  2.   ,  0.481,  0.149]),\n",
    "#   array([ 2.   ,  2.   ,  1.   ,  1.   ,  2.   ,  1.   ,  0.437,  0.211])]})"
   ]
  },
  {
   "cell_type": "code",
   "execution_count": 36,
   "metadata": {
    "collapsed": true
   },
   "outputs": [],
   "source": [
    "def buid_cm_dict(label_count, label_list_x):\n",
    "    labels = label_list_x.keys()\n",
    "    label_column_message = {} \n",
    "    \"\"\"\n",
    "    字典： 存放label以及对应的  Column_Message的数组 {label_1:[cm_0,cm_1,...,cm_n],...,label_m:[cm_0,cm_1,...,cm_n]}\n",
    "    其中Column_Message的数组的index，就是输入的特征向量 x 的第index的元素\n",
    "    这时在label的情况下，cm_0就是 x中第0列元素的概率信息\n",
    "\n",
    "    \"\"\"\n",
    "    #对label_list_x进行遍历\n",
    "    for label in labels:\n",
    "        list_x = label_list_x[label]\n",
    "        list_factor_count = [] # 数组： 里面存放的是字典，字典用于记录第 inner_index列 元素的个数\n",
    "        list_cm = [] # 用于存储cm\n",
    "        flag=True\n",
    "        # 对 label_list_x[label]进行遍历\n",
    "        for out_index in range(0,len(list_x)):\n",
    "            if out_index != 0: # 判断是否是第一列，只需要添加一次就可以了。\n",
    "                flag = False\n",
    "            for inner_index in range(0,len(list_x[out_index])):\n",
    "                if flag:\n",
    "                    list_factor_count.append({}) # 添加 x 的长度个字典到数组中\n",
    "                # 记录第inner_index中元素的个数\n",
    "                if list_x[out_index][inner_index] in list_factor_count[inner_index].keys():\n",
    "                    list_factor_count[inner_index][list_x[out_index][inner_index]] = list_factor_count[inner_index][list_x[out_index][inner_index]] + 1\n",
    "                else:\n",
    "                    list_factor_count[inner_index][list_x[out_index][inner_index]] = 1\n",
    "        for index in range(0, len(list_factor_count)):\n",
    "            factors = list_factor_count[index].keys()\n",
    "            cm = Column_Message()\n",
    "            # 如果第index列的元素的个数大于等于该label的个数的一半，就认为该值是连续值\n",
    "            if 2 * len(factors) >= label_count[label]:\n",
    "                cm.enum = False  # 设置为连续性值\n",
    "                s = sum(list(factors))\n",
    "                cm.mean =s/ label_count[label]\n",
    "                factor_sum = 0\n",
    "                for factor in factors:\n",
    "                    factor_sum += (cm.mean -factor)**2\n",
    "                cm.variance = math.sqrt(factor_sum / (label_count[label] -1))\n",
    "            # 对枚举值进行计算。\n",
    "            else:\n",
    "                count = 0\n",
    "                cm.factor_p = {}\n",
    "                for factor in factors:\n",
    "                    cm.factor_p[factor] = list_factor_count[index][factor] / label_count[label]\n",
    "            list_cm.append(cm)\n",
    "        label_column_message[label]=list_cm\n",
    "    return label_column_message\n",
    "                "
   ]
  },
  {
   "cell_type": "markdown",
   "metadata": {},
   "source": [
    "#### 方差\n",
    "\n",
    "设数据的均值为：$\\mu$,方差为$\\sigma$,则方差的计算公式是：$\\sigma = \\frac{1}{N} \\sum_\\limits{i=1}^N(x_i - \\mu)^2$\n",
    "这里涉及到一个问题就是，我们在计算中使用的数据不是总体数据而是其中的一部分，即样本数据，而在计算样本数据的方差时常用：\n",
    "$$\\sigma = \\frac{1}{N-1} \\sum_\\limits{i=1}^N(x_i - \\mu)^2$$\n",
    "来计算样本方差。\n",
    "[为什么样本方差的分母是n-1](https://www.zhihu.com/question/20099757/answer/26586088)"
   ]
  },
  {
   "cell_type": "code",
   "execution_count": 39,
   "metadata": {
    "collapsed": true
   },
   "outputs": [],
   "source": [
    "class NaiveBayesian:\n",
    "    label_column_message = None\n",
    "    label_p = None\n",
    "    def fit(self, x, y):\n",
    "        label_count, label_p, label_list_x = calu_label_p_and_divide_x(x, y)\n",
    "        self.label_p = label_p\n",
    "        self.label_column_message = buid_cm_dict(label_count,label_list_x)\n",
    "    \n",
    "    def predict(self,x):\n",
    "        label_pro = copy.deepcopy(self.label_p)\n",
    "        for index in range(0, len(x)):\n",
    "            for label in self.label_p.keys():\n",
    "                if self.label_column_message[label][index].enum:\n",
    "                    label_pro[label] *= self.label_column_message[label][index].factor_p[x[index]]\n",
    "                else:\n",
    "                    label_pro[label] *= self.label_column_message[label][index].calu_no_enum(x[index])\n",
    "        result = -1\n",
    "        label_ = None\n",
    "        for key in label_pro.keys():\n",
    "            print(key)\n",
    "            print(label_pro[key])\n",
    "            if( label_pro[key] > result ):\n",
    "                result = label_pro[key]\n",
    "                label_ = key\n",
    "        \n",
    "        return label_\n",
    "                "
   ]
  },
  {
   "cell_type": "code",
   "execution_count": 40,
   "metadata": {},
   "outputs": [
    {
     "name": "stdout",
     "output_type": "stream",
     "text": [
      "1\n",
      "0.05237871892595566\n",
      "0\n",
      "6.858424030302072e-05\n"
     ]
    },
    {
     "data": {
      "text/plain": [
       "1"
      ]
     },
     "execution_count": 40,
     "metadata": {},
     "output_type": "execute_result"
    }
   ],
   "source": [
    "nb = NaiveBayesian()\n",
    "nb.fit(x,y)\n",
    "nb.predict([1,1,1,1,1,1,0.697,0.460])"
   ]
  },
  {
   "cell_type": "markdown",
   "metadata": {},
   "source": [
    "书上的数据有几个错误的地方：\n",
    "<img src=\"images/p1.png\">\n",
    "<img src=\"images/p3.png\">\n",
    "第一个画红线的应该是0.625（最新版的纸质书中更改了这个错误）\n",
    "第二个划红线的应该是0.625（根据84的数据应该是0.625，这个错误依然没有改）\n",
    "\n",
    "<img src=\"images/p4.png\">\n",
    "由于前面计算错误，导致后面的结果也出现了错误，因为第二个错误没有改导致后面的结果即使已经修改过一次后，在最新版的树上依然是错的。\n",
    "（后两个错误真的是气死我了）\n"
   ]
  },
  {
   "cell_type": "code",
   "execution_count": null,
   "metadata": {
    "collapsed": true
   },
   "outputs": [],
   "source": []
  }
 ],
 "metadata": {
  "kernelspec": {
   "display_name": "Python 3",
   "language": "python",
   "name": "python3"
  },
  "language_info": {
   "codemirror_mode": {
    "name": "ipython",
    "version": 3
   },
   "file_extension": ".py",
   "mimetype": "text/x-python",
   "name": "python",
   "nbconvert_exporter": "python",
   "pygments_lexer": "ipython3",
   "version": "3.6.1"
  }
 },
 "nbformat": 4,
 "nbformat_minor": 2
}
