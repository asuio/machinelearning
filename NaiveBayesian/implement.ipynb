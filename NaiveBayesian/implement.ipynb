{
 "cells": [
  {
   "cell_type": "code",
   "execution_count": 85,
   "metadata": {},
   "outputs": [
    {
     "data": {
      "text/plain": [
       "0.6841176470588235"
      ]
     },
     "execution_count": 85,
     "metadata": {},
     "output_type": "execute_result"
    }
   ],
   "source": [
    "import numpy as np\n",
    "import math\n",
    "# 初分类 对单独列进行元素和label的分类\n",
    "# 数据 西瓜书 第76页\n",
    "x = np.array(([[1,1,1,1,1,1,0.697,0.460],\n",
    "               [2,1,2,1,1,1,0.774,0.376],\n",
    "               [2,1,1,1,1,1,0.634,0.264],\n",
    "               [1,1,2,1,1,1,0.608,0.318],\n",
    "               [3,1,1,1,1,1,0.556,0.215],\n",
    "               [1,2,1,1,2,2,0.403,0.237],\n",
    "               [2,2,1,2,2,2,0.481,0.149],\n",
    "               [2,2,1,1,2,1,0.437,0.211],\n",
    "               [2,2,2,2,2,1,0.666,0.091],\n",
    "               [1,3,3,1,3,2,0.243,0.267],\n",
    "               [3,3,3,3,3,1,0.245,0.057],\n",
    "               [3,1,1,3,3,2,0.343,0.099],\n",
    "               [1,2,1,2,1,1,0.639,0.161],\n",
    "               [3,2,2,2,1,1,0.657,0.198],\n",
    "               [2,2,1,1,2,2,0.360,0.370],\n",
    "               [3,1,1,3,3,1,0.593,0.042],\n",
    "               [1,1,2,2,2,1,0.719,0.103]]))\n",
    "y = np.array(([1,1,1,1,1,1,1,1,0,0,0,0,0,0,0,0,0]))\n",
    "sum(x[6])"
   ]
  },
  {
   "cell_type": "code",
   "execution_count": 145,
   "metadata": {
    "collapsed": true
   },
   "outputs": [],
   "source": [
    "class Column_Message:\n",
    "    enum = True\n",
    "    factor_p = None\n",
    "    mean = None\n",
    "    variance = None\n",
    "    \n",
    "    def calu_no_enum(selt,factor):\n",
    "         result = 1/((math.sqrt(2*math.pi))*selt.variance)*math.exp(-pow((factor-selt.mean),2)/(2*pow(selt.variance,2)))"
   ]
  },
  {
   "cell_type": "code",
   "execution_count": 16,
   "metadata": {},
   "outputs": [],
   "source": [
    "def calu_lable_p_and_divide_x(x,y):\n",
    "    count = len(y)\n",
    "    lable_count = {}\n",
    "    lable_list_x = {}\n",
    "    index = 0\n",
    "    for lable in y:\n",
    "        keys = lable_count.keys()\n",
    "        if lable in keys:\n",
    "            lable_count[lable] = lable_count[lable] + 1\n",
    "        else:\n",
    "            lable_count[lable] = 1\n",
    "            lable_list_x[lable] = []\n",
    "        lable_list_x[lable].append(x[index])\n",
    "        index += 1\n",
    "    \n",
    "    lables = lable_count.keys()\n",
    "    lable_p = {}\n",
    "    for lable in lables:\n",
    "        lable_p[lable] = lable_count[lable] / count\n",
    "    return (lable_count, lable_p, lable_list_x)\n"
   ]
  },
  {
   "cell_type": "code",
   "execution_count": 121,
   "metadata": {},
   "outputs": [],
   "source": [
    "def calu_(lable_count, lable_p, lable_list_x):\n",
    "    lables = lable_list_x.keys()\n",
    "    lable_column_message = {}\n",
    "    for lable in lables:\n",
    "        list_x = lable_list_x[lable]\n",
    "        list_factor_count = []\n",
    "        list_cm = []\n",
    "        flag=True\n",
    "        for out_index in range(0,len(list_x)):\n",
    "            if out_index != 0:\n",
    "                flag = False\n",
    "            for inner_index in range(0,len(list_x[out_index])):\n",
    "                if flag:\n",
    "                    list_factor_count.append({})\n",
    "                if list_x[out_index][inner_index] in list_factor_count[inner_index].keys():\n",
    "                    list_factor_count[inner_index][list_x[out_index][inner_index]] = list_factor_count[inner_index][list_x[out_index][inner_index]] + 1\n",
    "                else:\n",
    "                    list_factor_count[inner_index][list_x[out_index][inner_index]] = 1\n",
    "        print(list_factor_count)\n",
    "        for index in range(0, len(list_factor_count)):\n",
    "            factors = list_factor_count[index].keys()\n",
    "            cm = Column_Message()\n",
    "            if 2 * len(factors) >= lable_count[lable]:\n",
    "                cm.enum = False\n",
    "                s = sum(list(factors))\n",
    "                cm.mean =s/ lable_count[lable]\n",
    "                factor_sum = 0\n",
    "                for factor in factors:\n",
    "                    factor_sum += (cm.mean -factor)**2\n",
    "                cm.variance = math.sqrt(factor_sum / (lable_count[lable] -1))\n",
    "                print(cm.variance)\n",
    "                print(cm.mean)\n",
    "            else:\n",
    "                count = 0\n",
    "                cm.factor_p = {}\n",
    "                for factor in factors:\n",
    "                    cm.factor_p[factor] = list_factor_count[index][factor] / lable_count[lable]\n",
    "            list_cm.append(cm)\n",
    "        lable_column_message[lable]=list_cm\n",
    "    return lable_column_message\n",
    "                "
   ]
  },
  {
   "cell_type": "code",
   "execution_count": 123,
   "metadata": {},
   "outputs": [
    {
     "name": "stdout",
     "output_type": "stream",
     "text": [
      "[{1.0: 3, 2.0: 4, 3.0: 1}, {1.0: 5, 2.0: 3}, {1.0: 6, 2.0: 2}, {1.0: 7, 2.0: 1}, {1.0: 5, 2.0: 3}, {1.0: 6, 2.0: 2}, {0.69699999999999995: 1, 0.77400000000000002: 1, 0.63400000000000001: 1, 0.60799999999999998: 1, 0.55600000000000005: 1, 0.40300000000000002: 1, 0.48099999999999998: 1, 0.437: 1}, {0.46000000000000002: 1, 0.376: 1, 0.26400000000000001: 1, 0.318: 1, 0.215: 1, 0.23699999999999999: 1, 0.14899999999999999: 1, 0.21099999999999999: 1}]\n",
      "0.12921051483086482\n",
      "0.57375\n",
      "0.10092394590553255\n",
      "0.27875\n",
      "[{2.0: 2, 1.0: 3, 3.0: 4}, {2.0: 4, 3.0: 2, 1.0: 3}, {2.0: 3, 3.0: 2, 1.0: 4}, {2.0: 4, 1.0: 2, 3.0: 3}, {2.0: 3, 3.0: 4, 1.0: 2}, {1.0: 6, 2.0: 3}, {0.66600000000000004: 1, 0.24299999999999999: 1, 0.245: 1, 0.34300000000000003: 1, 0.63900000000000001: 1, 0.65700000000000003: 1, 0.35999999999999999: 1, 0.59299999999999997: 1, 0.71899999999999997: 1}, {0.090999999999999998: 1, 0.26700000000000002: 1, 0.057000000000000002: 1, 0.099000000000000005: 1, 0.161: 1, 0.19800000000000001: 1, 0.37: 1, 0.042000000000000003: 1, 0.10299999999999999: 1}]\n",
      "0.19471867170641624\n",
      "0.496111111111\n",
      "0.10779468653159321\n",
      "0.154222222222\n"
     ]
    }
   ],
   "source": [
    "xx,yy,zz = calu_lable_p_and_divide_x(x, y)\n",
    "a = calu_(xx,yy,zz)"
   ]
  },
  {
   "cell_type": "code",
   "execution_count": 80,
   "metadata": {},
   "outputs": [
    {
     "data": {
      "text/plain": [
       "0.014608437499999998"
      ]
     },
     "execution_count": 80,
     "metadata": {},
     "output_type": "execute_result"
    }
   ],
   "source": [
    "a[1][6].variance"
   ]
  },
  {
   "cell_type": "code",
   "execution_count": 120,
   "metadata": {},
   "outputs": [
    {
     "name": "stdout",
     "output_type": "stream",
     "text": [
      "0.697\n",
      "0.0151905625\n",
      "0.0151905625\n",
      "0.774\n",
      "0.0401000625\n",
      "0.055290625\n",
      "0.634\n",
      "0.0036300625\n",
      "0.0589206875\n",
      "0.608\n",
      "0.0011730625\n",
      "0.06009375\n",
      "0.556\n",
      "0.0003150625\n",
      "0.0604088125\n",
      "0.403\n",
      "0.0291555625\n",
      "0.089564375\n",
      "0.481\n",
      "0.0086025625\n",
      "0.0981669375\n",
      "0.437\n",
      "0.0187005625\n",
      "0.1168675\n",
      "0.12921051483086482\n"
     ]
    }
   ],
   "source": [
    "mean = 0.57375\n",
    "var_sum = 0\n",
    "for index in range(0,8):\n",
    "    print(x[index][6])\n",
    "    print((x[index][6]-mean)**2)\n",
    "    var_sum += (x[index][6]-mean)**2\n",
    "    print(var_sum)\n",
    "\n",
    "print(math.sqrt(var_sum/7))"
   ]
  }
 ],
 "metadata": {
  "kernelspec": {
   "display_name": "Python 3",
   "language": "python",
   "name": "python3"
  },
  "language_info": {
   "codemirror_mode": {
    "name": "ipython",
    "version": 3
   },
   "file_extension": ".py",
   "mimetype": "text/x-python",
   "name": "python",
   "nbconvert_exporter": "python",
   "pygments_lexer": "ipython3",
   "version": "3.6.1"
  }
 },
 "nbformat": 4,
 "nbformat_minor": 2
}
