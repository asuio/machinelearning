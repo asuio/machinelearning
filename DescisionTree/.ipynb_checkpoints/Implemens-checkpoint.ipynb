{
 "cells": [
  {
   "cell_type": "markdown",
   "metadata": {},
   "source": [
    "### 决策树\n"
   ]
  },
  {
   "cell_type": "code",
   "execution_count": 36,
   "metadata": {
    "collapsed": true
   },
   "outputs": [],
   "source": [
    "import numpy as np\n",
    "# 初分类 对单独列进行元素和label的分类\n",
    "# 数据 西瓜书 第76页\n",
    "x = np.array(([[1,1,1,1,1,1],\n",
    "               [2,1,2,1,1,1],\n",
    "               [2,1,1,1,1,1],\n",
    "               [1,1,2,1,1,1],\n",
    "               [3,1,1,1,1,1],\n",
    "               [1,2,1,1,2,2],\n",
    "               [2,2,1,2,2,2],\n",
    "               [2,2,1,1,2,1],\n",
    "               [2,2,2,2,2,1],\n",
    "               [1,3,3,1,3,2],\n",
    "               [3,3,3,3,3,1],\n",
    "               [3,1,1,3,3,2],\n",
    "               [1,2,1,2,1,1],\n",
    "               [3,2,2,2,1,1],\n",
    "               [2,2,1,1,2,2],\n",
    "               [3,1,1,3,3,1],\n",
    "               [1,1,2,2,2,1]]))\n",
    "y = np.array(([1,1,1,1,1,1,1,1,0,0,0,0,0,0,0,0,0]))"
   ]
  },
  {
   "cell_type": "code",
   "execution_count": 37,
   "metadata": {
    "collapsed": true
   },
   "outputs": [],
   "source": [
    "#获得y中每种label的个数\n",
    "def get_lable_count(y):\n",
    "    all_lable_count = {}\n",
    "    for lable in y:\n",
    "        if lable in all_lable_count.keys():\n",
    "            all_lable_count[lable] = all_lable_count[lable] + 1\n",
    "        else:\n",
    "            all_lable_count[lable] = 1\n",
    "    return all_lable_count"
   ]
  },
  {
   "cell_type": "markdown",
   "metadata": {},
   "source": [
    "在上面的函数中，使用get_lable_count函数，可以对训练数据中不同的lable计数，获得每个lable对应的训练数据的个数。\n",
    "\n",
    "计算$Ent(D)=- \\sum_\\limits{i=1}^{n}p_i log p_i$"
   ]
  },
  {
   "cell_type": "code",
   "execution_count": 38,
   "metadata": {
    "collapsed": true
   },
   "outputs": [],
   "source": [
    "import math\n",
    "all_lable_count = get_lable_count(y)\n",
    "counts = len(y)\n",
    "# 计算数据整体的entropy\n",
    "def calcu_entropy(all_lable_count, counts):\n",
    "    lables = all_lable_count.keys()\n",
    "    sum = 0\n",
    "    for lable in lables:\n",
    "        rate = all_lable_count[lable]/counts\n",
    "        sum += rate * math.log2(rate)  \n",
    "    return -sum\n"
   ]
  },
  {
   "cell_type": "code",
   "execution_count": 39,
   "metadata": {
    "collapsed": true
   },
   "outputs": [],
   "source": [
    "# 对第column列进行数据划分\n",
    "# 返回一个字典，字典{factor:[{label_1,count},{lable_2, count}]\n",
    "def divide_data(x, y, column):\n",
    "    data = np.column_stack((y, x)) # 对数据进行结合，方便遍历数据\n",
    "    dict_factor_lable_count = {}   # 字典类型，key为第column列的属性值，value为 label和lable count的数组。\n",
    "    dict_index = {} # 字典类型，第column列中，相同factor的index\n",
    "    count = 0\n",
    "    for row_x_y in data:\n",
    "        factor_key = dict_factor_lable_count.keys()\n",
    "        factor = row_x_y[1+column] # 第column列元素\n",
    "        lable = row_x_y[0]         # lable\n",
    "        if( factor in factor_key):\n",
    "            dict_index[factor].append(count)\n",
    "            count += 1\n",
    "            lable_count_array = dict_factor_lable_count[factor]\n",
    "            for index in range(0,len(lable_count_array)):\n",
    "                if lable in lable_count_array[index].keys():\n",
    "                    lable_count_array[index][lable] = lable_count_array[index][lable] + 1\n",
    "                    break\n",
    "                elif index + 1 == len(lable_count_array):\n",
    "                    tmp_dict = {lable: 1}\n",
    "                    lable_count_array.append(tmp_dict)\n",
    "                    break\n",
    "        else:\n",
    "            dict_factor_lable_count[factor] = [{lable: 1}]\n",
    "            dict_index[factor] = [count]\n",
    "            count +=1\n",
    "    return (dict_factor_lable_count, dict_index) \n",
    "    \n",
    "\n",
    "# ({1: [{1: 3}, {0: 1}], 2: [{0: 3}], 3: [{0: 3}, {1: 2}], 5: [{1: 1}]},\n",
    "#  {1: [{0}, {5}, {7}, {11}], 2: [{1}, {10}, {12}], 3: [{2}, {3}, {4}, {8}, {9}], 5: [{6}]})\n",
    "#  对x 的第0列进行划分，可以得到，当第0列元素是1时，lable=1的样本有3个，lable=0的样本有1个，依此类推。\n",
    "#  数据按着第column列进行划分，得到数据的index。"
   ]
  },
  {
   "cell_type": "markdown",
   "metadata": {},
   "source": [
    "通过上面的函数divide_data，我们可以对第colume列进行划分，使得第column列元素相同的放在一起，同时再将第column列相同的元素按着lable进行计数\n",
    "\n",
    "计算$Ent(D^v) = - \\sum_\\limits{i=1}^{n}p_i log p_i$"
   ]
  },
  {
   "cell_type": "code",
   "execution_count": 40,
   "metadata": {
    "collapsed": true
   },
   "outputs": [],
   "source": [
    "(dict_factor_lable_count, dict_index) = divide_data(x,y,0)\n",
    "# 计算信息熵\n",
    "import math\n",
    "def calcu_part_entropy(dict_factor_lable_count, dict_index):\n",
    "    factor_set = dict_factor_lable_count.keys()\n",
    "    list_entropy = []\n",
    "    count = 0\n",
    "    for factor in factor_set:\n",
    "        lable_count_array=dict_factor_lable_count[factor]\n",
    "        factor_all_count = len(dict_index[factor])\n",
    "        sum = 0\n",
    "        for lable_count in lable_count_array:\n",
    "            for lable in lable_count.keys():\n",
    "                rate = lable_count[lable] / factor_all_count\n",
    "                sum += rate*math.log(rate,2)\n",
    "        list_entropy.append({factor: -sum})\n",
    "\n",
    "    return list_entropy"
   ]
  },
  {
   "cell_type": "markdown",
   "metadata": {},
   "source": [
    "计算信息增益，是用第column个元素对数据集进行划分，就会产生$v$个样本集合，再考虑到每个样本集合包含的样本数不同，对不同的样本赋予权重$\\frac{D^v}{D}$，然后计算第column个元素对数据进行划分所得到的信息增益。\n",
    "$$Gain(D,factor)=Ent(D)- \\sum \\limits_{i=1}^{v}\\frac{D^v}{D} Ent(D^v)$$\n",
    "根据上面计算出的第column列元素的信息熵，计算第column的信息增益。"
   ]
  },
  {
   "cell_type": "code",
   "execution_count": 41,
   "metadata": {
    "collapsed": true
   },
   "outputs": [],
   "source": [
    "# 计算信息增益\n",
    "def calcu_gain(counts, D_entropy, D_v_entropy, dict_index):\n",
    "    sum = 0\n",
    "    for factor_entropy in D_v_entropy:\n",
    "        factors = factor_entropy.keys()\n",
    "        for factor in factors:\n",
    "            sum +=(len(dict_index[factor])/counts) * factor_entropy[factor]\n",
    "    return D_entropy - sum"
   ]
  },
  {
   "cell_type": "code",
   "execution_count": 42,
   "metadata": {},
   "outputs": [
    {
     "name": "stdout",
     "output_type": "stream",
     "text": [
      "0.10812516526536531\n",
      "0.14267495956679288\n",
      "0.14078143361499584\n",
      "0.3805918973682686\n",
      "0.28915878284167895\n",
      "0.006046489176565584\n"
     ]
    }
   ],
   "source": [
    "counts = len(y)\n",
    "D_entropy = calcu_entropy(get_lable_count(y),counts)\n",
    "for index in range(0, len(x[0])):\n",
    "    dict_factor_lable_count, dict_index = divide_data(x,y,index)\n",
    "    D_v_entropy = calcu_part_entropy(dict_factor_lable_count, dict_index)\n",
    "    print(calcu_gain(counts, D_entropy, D_v_entropy, dict_index))"
   ]
  },
  {
   "cell_type": "code",
   "execution_count": 43,
   "metadata": {},
   "outputs": [],
   "source": [
    "# 用于构建决策树的类\n",
    "class Node:\n",
    "    factor_index = -1\n",
    "    list_node = None #数组中的数据类型为 node\n",
    "    list_factors = None # 数组中的数据类型为当前节点判断的元素是哪个，factor的index与 list_node中对应的node的index一样\n",
    "    is_lable = False\n",
    "    lable = None\n",
    "    \n",
    "    def __init__(self, factor_index, list_node, list_factors, is_lable, lable):\n",
    "        self.factor_index = factor_index\n",
    "        self.list_node = list_node\n",
    "        self.list_factors = list_factors\n",
    "        self.is_lable = is_lable\n",
    "        if is_lable:\n",
    "            self.lable = lable\n",
    "    def __init__(self):\n",
    "        self.list_node = []\n",
    "        self.list_factors = []\n",
    "        pass"
   ]
  },
  {
   "cell_type": "code",
   "execution_count": 62,
   "metadata": {},
   "outputs": [],
   "source": [
    "# \n",
    "def decision_factor(x, y, factor_set):\n",
    "    counts = len(y)\n",
    "    D_entropy = calcu_entropy(get_lable_count(y),counts)\n",
    "    \n",
    "    order = -1\n",
    "    dict_gain_index = {\"gain\":-1, \"index\":-1}\n",
    "    dict_factor_index = None\n",
    "    \n",
    "    for index in range(0, len(x[0])):\n",
    "        if index in factor_set:\n",
    "            continue\n",
    "        else:\n",
    "            dict_factor_lable_count, dict_index = divide_data(x,y,index)\n",
    "            D_v_entropy = calcu_part_entropy(dict_factor_lable_count, dict_index)\n",
    "            gain = calcu_gain(counts, D_entropy, D_v_entropy, dict_index)\n",
    "            print(gain)\n",
    "            if gain > dict_gain_index[\"gain\"]:\n",
    "                dict_gain_index[\"gain\"]= gain\n",
    "                dict_gain_index[\"index\"] = index\n",
    "                dict_factor_index = dict_index\n",
    "    factor_set.add(dict_gain_index[\"index\"])\n",
    "    return (dict_gain_index, dict_factor_index)"
   ]
  },
  {
   "cell_type": "code",
   "execution_count": 45,
   "metadata": {},
   "outputs": [],
   "source": [
    "import numpy as np\n",
    "import copy\n",
    "def build_without_tree(x,y,factor_set):\n",
    "    name = [\"色泽\",\"根蒂\",\"敲声\",\"纹理\",\"肚部\",\"触感\"]\n",
    "    dict_gain_index,dict_factor_lable_count = decision_factor(x, y, factor_set)\n",
    "    factors = dict_factor_lable_count.keys()\n",
    "   # print(factor_set)\n",
    "    tmp_set = copy.deepcopy(factor_set)\n",
    "    for factor in factors:\n",
    "        count = 0\n",
    "        indexs = dict_factor_lable_count[factor]\n",
    "        tmp_x = []\n",
    "        tmp_y = []\n",
    "        lable_set = set()\n",
    "        for index in indexs:\n",
    "            lable_set.add(y[index])\n",
    "            tmp_y.append(y[index])\n",
    "            tmp_x.append(x[index])\n",
    "        \n",
    "        if len(lable_set)==1:\n",
    "            pass\n",
    "        else:\n",
    "            build_without_tree(tmp_x,tmp_y,factor_set)\n",
    "    pass\n",
    "\n",
    "factor_set = set()\n",
    "node = Node()\n",
    "build_without_tree(x,y, factor_set)"
   ]
  },
  {
   "cell_type": "code",
   "execution_count": 46,
   "metadata": {
    "collapsed": true
   },
   "outputs": [],
   "source": [
    "import numpy as np\n",
    "import copy\n",
    "def build_tree(x, y, factor_set, node):\n",
    "    name = [\"色泽\",\"根蒂\",\"敲声\",\"纹理\",\"肚部\",\"触感\"]\n",
    "    dict_gain_index,dict_factor_lable_count = decision_factor(x, y, factor_set)\n",
    "    factors = dict_factor_lable_count.keys()\n",
    "    node.factor_index=dict_gain_index[\"index\"]\n",
    "    tmp_set = copy.deepcopy(factor_set)\n",
    "    for factor in factors:\n",
    "        count = 0\n",
    "        indexs = dict_factor_lable_count[factor]\n",
    "        tmp_x = []\n",
    "        tmp_y = []\n",
    "        lable_set = set()\n",
    "        for index in indexs:\n",
    "            lable_set.add(y[index])\n",
    "            tmp_y.append(y[index])\n",
    "            tmp_x.append(x[index])\n",
    "        \n",
    "        if len(lable_set)==1:\n",
    "            tmp_node = Node()\n",
    "            tmp_node.factor_index = factor\n",
    "            tmp_node.is_lable = True\n",
    "            tmp_node.lable = list(lable_set)[0]\n",
    "            node.list_node.append(tmp_node)\n",
    "            node.list_factors.append(factor)\n",
    "            pass\n",
    "        else:\n",
    "            tmp_node = Node()\n",
    "            node.list_factors.append(factor)\n",
    "            node.list_node.append(tmp_node)\n",
    "            build_tree(tmp_x,tmp_y,tmp_set, tmp_node)\n",
    "            pass"
   ]
  },
  {
   "cell_type": "code",
   "execution_count": 63,
   "metadata": {},
   "outputs": [
    {
     "name": "stdout",
     "output_type": "stream",
     "text": [
      "0.10812516526536531\n",
      "0.14267495956679288\n",
      "0.14078143361499584\n",
      "0.3805918973682686\n",
      "0.28915878284167895\n",
      "0.006046489176565584\n",
      "0.04306839587828004\n",
      "0.45810589515712374\n",
      "0.33085622540971754\n",
      "0.45810589515712374\n",
      "0.45810589515712374\n",
      "0.2516291673878229\n",
      "0.0\n",
      "0.0\n",
      "0.2516291673878229\n",
      "0.0\n",
      "0.0\n",
      "1.0\n",
      "0.3219280948873623\n",
      "0.3219280948873623\n",
      "0.17095059445466865\n",
      "0.7219280948873623\n"
     ]
    },
    {
     "data": {
      "text/plain": [
       "<__main__.Node at 0x5d69940>"
      ]
     },
     "execution_count": 63,
     "metadata": {},
     "output_type": "execute_result"
    }
   ],
   "source": [
    "factor_set = set()\n",
    "node = Node()\n",
    "build_tree(x, y, factor_set, node)\n",
    "node"
   ]
  },
  {
   "cell_type": "code",
   "execution_count": 60,
   "metadata": {},
   "outputs": [
    {
     "data": {
      "text/plain": [
       "1"
      ]
     },
     "execution_count": 60,
     "metadata": {},
     "output_type": "execute_result"
    }
   ],
   "source": [
    "node.list_node[0].factor_index"
   ]
  },
  {
   "cell_type": "code",
   "execution_count": 49,
   "metadata": {},
   "outputs": [],
   "source": [
    "class DescisionTree:\n",
    "    node = None\n",
    "    \n",
    "    def fit(self,x,y):\n",
    "        factor_set = set()\n",
    "        node = Node()\n",
    "        build_tree(x, y, factor_set, node)\n",
    "        self.node = node\n",
    "    \n",
    "    def predict(self,x):\n",
    "        flag = True\n",
    "        exception = False\n",
    "        tmp_node = self.node\n",
    "        result = None\n",
    "        while flag:\n",
    "            if tmp_node.is_lable:\n",
    "                result = tmp_node.lable\n",
    "                flag = False\n",
    "            else:\n",
    "                index = 0\n",
    "                for factor in tmp_node.list_factors:\n",
    "                    if factor == x[tmp_node.factor_index]:\n",
    "                        tmp_node = tmp_node.list_node[index]\n",
    "                        break\n",
    "                    else:\n",
    "                        pass\n",
    "                    index += 1\n",
    "                    if index == len(tmp_node.list_factors):\n",
    "                        exception = True\n",
    "                        flag = False\n",
    "        \n",
    "        return result"
   ]
  },
  {
   "cell_type": "code",
   "execution_count": 50,
   "metadata": {},
   "outputs": [
    {
     "name": "stdout",
     "output_type": "stream",
     "text": [
      "0\n"
     ]
    }
   ],
   "source": [
    "ds = DescisionTree()\n",
    "ds.fit(x,y)\n",
    "\n",
    "print(ds.predict([1,2,3,2,1,1]))"
   ]
  },
  {
   "cell_type": "code",
   "execution_count": 61,
   "metadata": {},
   "outputs": [
    {
     "data": {
      "text/plain": [
       "2"
      ]
     },
     "execution_count": 61,
     "metadata": {},
     "output_type": "execute_result"
    }
   ],
   "source": [
    "len(node.list_node[0].list_node[1].list_node)"
   ]
  },
  {
   "cell_type": "code",
   "execution_count": null,
   "metadata": {},
   "outputs": [],
   "source": []
  },
  {
   "cell_type": "code",
   "execution_count": null,
   "metadata": {
    "collapsed": true
   },
   "outputs": [],
   "source": []
  }
 ],
 "metadata": {
  "kernelspec": {
   "display_name": "Python 3",
   "language": "python",
   "name": "python3"
  },
  "language_info": {
   "codemirror_mode": {
    "name": "ipython",
    "version": 3
   },
   "file_extension": ".py",
   "mimetype": "text/x-python",
   "name": "python",
   "nbconvert_exporter": "python",
   "pygments_lexer": "ipython3",
   "version": "3.6.1"
  }
 },
 "nbformat": 4,
 "nbformat_minor": 2
}
