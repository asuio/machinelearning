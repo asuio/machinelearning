{
 "cells": [
  {
   "cell_type": "markdown",
   "metadata": {},
   "source": [
    "### 决策树\n"
   ]
  },
  {
   "cell_type": "markdown",
   "metadata": {},
   "source": [
    "- 决策树是一种对实例进行分类的树状结构，在树中"
   ]
  },
  {
   "cell_type": "code",
   "execution_count": 4,
   "metadata": {},
   "outputs": [
    {
     "data": {
      "text/plain": [
       "array([[1, 1, 2, 3, 4],\n",
       "       [0, 2, 3, 4, 5],\n",
       "       [0, 3, 4, 5, 5],\n",
       "       [1, 3, 4, 2, 3],\n",
       "       [1, 3, 4, 1, 1],\n",
       "       [1, 1, 5, 2, 2],\n",
       "       [1, 5, 4, 1, 1],\n",
       "       [1, 1, 4, 2, 3],\n",
       "       [0, 3, 2, 1, 1],\n",
       "       [0, 3, 4, 5, 1],\n",
       "       [0, 2, 4, 1, 3],\n",
       "       [0, 1, 1, 2, 2],\n",
       "       [0, 2, 4, 2, 2]])"
      ]
     },
     "execution_count": 4,
     "metadata": {},
     "output_type": "execute_result"
    }
   ],
   "source": [
    "import numpy as np\n",
    "# 初分类 对单独列进行元素和label的分类\n",
    "\n",
    "x = np.array(([[1,2,3,4],[2,3,4,5],[3,4,5,5],[3,4,2,3],[3,4,1,1],[1,5,2,2],[5,4,1,1],[1,4,2,3],[3,2,1,1],[3,4,5,1],[2,4,1,3],[1,1,2,2],[2,4,2,2]]))\n",
    "y = np.array(([1,0,0,1,1,1,1,1,0,0,0,0,0]))\n",
    "np.column_stack((y, x))"
   ]
  },
  {
   "cell_type": "code",
   "execution_count": 5,
   "metadata": {},
   "outputs": [
    {
     "name": "stdout",
     "output_type": "stream",
     "text": [
      "({1: [{1: 3}, {0: 1}], 2: [{0: 3}], 3: [{0: 3}, {1: 2}], 5: [{1: 1}]}, {1: [{0}, {5}, {7}, {11}], 2: [{1}, {10}, {12}], 3: [{2}, {3}, {4}, {8}, {9}], 5: [{6}]})\n"
     ]
    }
   ],
   "source": [
    "# 对第column列进行数据划分\n",
    "# 返回一个字典，字典{factor:[{label_1,count},{lable_2, count}]\n",
    "def divide_data(x, y, column):\n",
    "    data = np.column_stack((y, x)) # 对数据进行结合，方便遍历数据\n",
    "    dict_factor_lable_count = {}\n",
    "    dict_index = {}\n",
    "    count = 0\n",
    "    for row_x_y in data:\n",
    "        factor_key = dict_factor_lable_count.keys()\n",
    "        factor = row_x_y[1+column] # 第column列元素\n",
    "        lable = row_x_y[0]         # lable\n",
    "        if( factor in factor_key):\n",
    "            dict_index[factor].append({count})\n",
    "            count += 1\n",
    "            lable_count_array = dict_factor_lable_count[factor]\n",
    "            for index in range(0,len(lable_count_array)):\n",
    "                if lable in lable_count_array[index].keys():\n",
    "                    lable_count_array[index][lable] = lable_count_array[index][lable] + 1\n",
    "                    break\n",
    "                elif index + 1 == len(lable_count_array):\n",
    "                    tmp_dict = {lable: 1}\n",
    "                    lable_count_array.append(tmp_dict)\n",
    "                    break\n",
    "        else:\n",
    "            dict_factor_lable_count[factor] = [{lable: 1}]\n",
    "            dict_index[factor] = [{count}]\n",
    "            count +=1\n",
    "    return (dict_factor_lable_count, dict_index) \n",
    "    \n",
    "\n",
    "# ({1: [{1: 3}, {0: 1}], 2: [{0: 3}], 3: [{0: 3}, {1: 2}], 5: [{1: 1}]},\n",
    "#  {1: [{0}, {5}, {7}, {11}], 2: [{1}, {10}, {12}], 3: [{2}, {3}, {4}, {8}, {9}], 5: [{6}]})\n",
    "#  对x 的第0列进行划分，可以得到，当第0列元素是1时，lable=1的样本有3个，lable=0的样本有1个，依此类推。\n",
    "#  数据按着第column列进行划分，得到数据的下标。\n",
    "print(divide_data(x,y,0))"
   ]
  },
  {
   "cell_type": "code",
   "execution_count": 6,
   "metadata": {},
   "outputs": [],
   "source": [
    "def get_lable_count(y):\n",
    "    all_lable_count = {}\n",
    "    for lable in y:\n",
    "        if lable in all_lable_count.keys():\n",
    "            all_lable_count[lable] = all_lable_count[lable] + 1\n",
    "        else:\n",
    "            all_lable_count[lable] = 1\n",
    "    return all_lable_count"
   ]
  },
  {
   "cell_type": "markdown",
   "metadata": {},
   "source": [
    "$Ent(D^v) = - \\sum_\\limits{i=1}^{n}p_i log p_i$"
   ]
  },
  {
   "cell_type": "code",
   "execution_count": 16,
   "metadata": {},
   "outputs": [
    {
     "name": "stdout",
     "output_type": "stream",
     "text": [
      "[0.8112781244591328, -0.0, 0.9709505944546686, -0.0]\n"
     ]
    }
   ],
   "source": [
    "(dict_factor_lable_count, dict_index) = divide_data(x,y,0)\n",
    "# 计算信息熵\n",
    "import math\n",
    "def calcu_gain(dict_factor_lable_count, dict_index):\n",
    "    factor_set = dict_factor_lable_count.keys()\n",
    "    list_entropy = []\n",
    "    count = 0\n",
    "    for factor in factor_set:\n",
    "        lable_count_array=dict_factor_lable_count[factor]\n",
    "        factor_all_count = len(dict_index[factor])\n",
    "        sum = 0\n",
    "        for lable_count in lable_count_array:\n",
    "            for lable in lable_count.keys():\n",
    "                rate = lable_count[lable] / factor_all_count\n",
    "                sum += rate*math.log(rate,2)\n",
    "        list_entropy.append(-sum)\n",
    "\n",
    "    return list_entropy\n",
    "        \n",
    "print(calcu_gain(dict_factor_lable_count, dict_index))"
   ]
  },
  {
   "cell_type": "code",
   "execution_count": 20,
   "metadata": {},
   "outputs": [],
   "source": [
    "class Node:\n",
    "    next_factor_order = -1\n",
    "    list_node = []\n",
    "    list_factors = []\n",
    "    is_lable = False\n",
    "    lable = None\n",
    "    \n",
    "    def __init__(self, next_factor_order, list_node, list_factors, is_lable, lable):\n",
    "        self.next_factor_order = next_factor_order\n",
    "        self.list_node = list_node\n",
    "        self.list_factors = list_factors\n",
    "        self.is_lable = is_lable\n",
    "        if is_lable:\n",
    "            self.lable = lable\n",
    "    pass\n",
    "    "
   ]
  },
  {
   "cell_type": "code",
   "execution_count": null,
   "metadata": {},
   "outputs": [],
   "source": [
    "\n",
    "    "
   ]
  },
  {
   "cell_type": "code",
   "execution_count": null,
   "metadata": {
    "collapsed": true
   },
   "outputs": [],
   "source": []
  }
 ],
 "metadata": {
  "kernelspec": {
   "display_name": "Python 3",
   "language": "python",
   "name": "python3"
  },
  "language_info": {
   "codemirror_mode": {
    "name": "ipython",
    "version": 3
   },
   "file_extension": ".py",
   "mimetype": "text/x-python",
   "name": "python",
   "nbconvert_exporter": "python",
   "pygments_lexer": "ipython3",
   "version": "3.6.1"
  }
 },
 "nbformat": 4,
 "nbformat_minor": 2
}
