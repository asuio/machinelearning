{
 "cells": [
  {
   "cell_type": "code",
   "execution_count": 106,
   "metadata": {},
   "outputs": [
    {
     "data": {
      "text/plain": [
       "array([[1, 1, 2, 3, 4],\n",
       "       [0, 2, 3, 4, 5],\n",
       "       [0, 3, 4, 5, 5],\n",
       "       [1, 3, 4, 2, 3],\n",
       "       [1, 3, 4, 1, 1],\n",
       "       [1, 1, 5, 2, 2],\n",
       "       [1, 5, 4, 1, 1],\n",
       "       [1, 1, 4, 2, 3],\n",
       "       [0, 3, 2, 1, 1],\n",
       "       [0, 3, 4, 5, 1],\n",
       "       [0, 2, 4, 1, 3],\n",
       "       [0, 1, 1, 2, 2],\n",
       "       [0, 2, 4, 2, 2]])"
      ]
     },
     "execution_count": 106,
     "metadata": {},
     "output_type": "execute_result"
    }
   ],
   "source": [
    "#### import numpy as np\n",
    "# 初分类 对单独列进行元素和label的分类\n",
    "\n",
    "x = np.array(([[1,2,3,4],[2,3,4,5],[3,4,5,5],[3,4,2,3],[3,4,1,1],[1,5,2,2],[5,4,1,1],[1,4,2,3],[3,2,1,1],[3,4,5,1],[2,4,1,3],[1,1,2,2],[2,4,2,2]]))\n",
    "y = np.array(([1,0,0,1,1,1,1,1,0,0,0,0,0]))\n",
    "np.column_stack((y, x))"
   ]
  },
  {
   "cell_type": "code",
   "execution_count": 122,
   "metadata": {},
   "outputs": [
    {
     "name": "stdout",
     "output_type": "stream",
     "text": [
      "({1: [{1: 3}, {0: 1}], 2: [{0: 3}], 3: [{0: 3}, {1: 2}], 5: [{1: 1}]}, {1: [{0}, {5}, {7}, {11}], 2: [{1}, {10}, {12}], 3: [{2}, {3}, {4}, {8}, {9}], 5: [{6}]})\n"
     ]
    }
   ],
   "source": [
    "# 对第column列进行数据划分\n",
    "# 返回一个字典，字典{factor:[{label_1,count},{lable_2, count}]\n",
    "def divide_data(x, y, column):\n",
    "    data = np.column_stack((y, x)) # 对数据进行结合，方便遍历数据\n",
    "    dict_factor_lable_count = {}\n",
    "    dict_index = {}\n",
    "    count = 0\n",
    "    for row_x_y in data:\n",
    "        factor_key = dict_factor_lable_count.keys()\n",
    "        factor = row_x_y[1+column] # 第column列元素\n",
    "        lable = row_x_y[0]         # lable\n",
    "        if( factor in factor_key):\n",
    "            dict_index[factor].append({count})\n",
    "            count += 1\n",
    "            lable_count_array = dict_factor_lable_count[factor]\n",
    "            for index in range(0,len(lable_count_array)):\n",
    "                if lable in lable_count_array[index].keys():\n",
    "                    lable_count_array[index][lable] = lable_count_array[index][lable] + 1\n",
    "                    break\n",
    "                elif index + 1 == len(lable_count_array):\n",
    "                    tmp_dict = {lable: 1}\n",
    "                    lable_count_array.append(tmp_dict)\n",
    "                    break\n",
    "        else:\n",
    "            dict_factor_lable_count[factor] = [{lable: 1}]\n",
    "            dict_index[factor] = [{count}]\n",
    "            count +=1\n",
    "    return (dict_factor_lable_count, dict_index) \n",
    "    \n",
    "\n",
    "# ({1: [{1: 3}, {0: 1}], 2: [{0: 3}], 3: [{0: 3}, {1: 2}], 5: [{1: 1}]},\n",
    "#  {1: [{0}, {5}, {7}, {11}], 2: [{1}, {10}, {12}], 3: [{2}, {3}, {4}, {8}, {9}], 5: [{6}]})\n",
    "#  对x 的第0列进行划分，可以得到，当第0列元素是1时，lable=1的样本有3个，lable=0的样本有1个，依此类推。\n",
    "#  数据按着第column列进行划分，得到数据的下标。\n",
    "print(divide_data(x,y,0))"
   ]
  },
  {
   "cell_type": "code",
   "execution_count": 140,
   "metadata": {},
   "outputs": [
    {
     "name": "stdout",
     "output_type": "stream",
     "text": [
      "{1: 6, 0: 7}\n"
     ]
    },
    {
     "data": {
      "text/plain": [
       "{0: 7, 1: 6}"
      ]
     },
     "execution_count": 140,
     "metadata": {},
     "output_type": "execute_result"
    }
   ],
   "source": [
    "def get_lable_count(y):\n",
    "    all_lable_count = {}\n",
    "    for lable in y:\n",
    "        if lable in all_lable_count.keys():\n",
    "            all_lable_count[lable] = all_lable_count[lable] + 1\n",
    "        else:\n",
    "            all_lable_count[lable] = 1\n",
    "    return all_lable_count"
   ]
  },
  {
   "cell_type": "code",
   "execution_count": 148,
   "metadata": {},
   "outputs": [
    {
     "ename": "TypeError",
     "evalue": "'float' object is not callable",
     "output_type": "error",
     "traceback": [
      "\u001b[1;31m---------------------------------------------------------------------------\u001b[0m",
      "\u001b[1;31mTypeError\u001b[0m                                 Traceback (most recent call last)",
      "\u001b[1;32m<ipython-input-148-4119a8fcb1bd>\u001b[0m in \u001b[0;36m<module>\u001b[1;34m()\u001b[0m\n\u001b[0;32m     19\u001b[0m     \u001b[0mlist_entropy\u001b[0m\u001b[1;33m\u001b[0m\u001b[0m\n\u001b[0;32m     20\u001b[0m \u001b[1;33m\u001b[0m\u001b[0m\n\u001b[1;32m---> 21\u001b[1;33m \u001b[0msum\u001b[0m\u001b[1;33m(\u001b[0m\u001b[0mcalcu_gain\u001b[0m\u001b[1;33m(\u001b[0m\u001b[0mdict_factor_lable_count\u001b[0m\u001b[1;33m,\u001b[0m \u001b[0mdict_index\u001b[0m\u001b[1;33m)\u001b[0m\u001b[1;33m)\u001b[0m\u001b[1;33m\u001b[0m\u001b[0m\n\u001b[0m",
      "\u001b[1;32m<ipython-input-148-4119a8fcb1bd>\u001b[0m in \u001b[0;36mcalcu_gain\u001b[1;34m(dict_factor_lable_count, dict_index)\u001b[0m\n\u001b[0;32m     16\u001b[0m                 \u001b[0msum\u001b[0m \u001b[1;33m+=\u001b[0m \u001b[0mrate\u001b[0m\u001b[1;33m*\u001b[0m\u001b[0mmath\u001b[0m\u001b[1;33m.\u001b[0m\u001b[0mlog\u001b[0m\u001b[1;33m(\u001b[0m\u001b[0mrate\u001b[0m\u001b[1;33m,\u001b[0m\u001b[1;36m2\u001b[0m\u001b[1;33m)\u001b[0m\u001b[1;33m\u001b[0m\u001b[0m\n\u001b[0;32m     17\u001b[0m         \u001b[0mlist_entropy\u001b[0m\u001b[1;33m.\u001b[0m\u001b[0mappend\u001b[0m\u001b[1;33m(\u001b[0m\u001b[1;33m-\u001b[0m\u001b[0msum\u001b[0m\u001b[1;33m)\u001b[0m\u001b[1;33m\u001b[0m\u001b[0m\n\u001b[1;32m---> 18\u001b[1;33m     \u001b[0mprint\u001b[0m\u001b[1;33m(\u001b[0m\u001b[0msum\u001b[0m\u001b[1;33m(\u001b[0m\u001b[0mlist_entropy\u001b[0m\u001b[1;33m)\u001b[0m\u001b[1;33m)\u001b[0m\u001b[1;33m\u001b[0m\u001b[0m\n\u001b[0m\u001b[0;32m     19\u001b[0m     \u001b[0mlist_entropy\u001b[0m\u001b[1;33m\u001b[0m\u001b[0m\n\u001b[0;32m     20\u001b[0m \u001b[1;33m\u001b[0m\u001b[0m\n",
      "\u001b[1;31mTypeError\u001b[0m: 'float' object is not callable"
     ]
    }
   ],
   "source": [
    "\n",
    "(dict_factor_lable_count, dict_index) = divide_data(x,y,0)\n",
    "# 计算信息熵\n",
    "import math\n",
    "def calcu_gain(dict_factor_lable_count, dict_index):\n",
    "    factor_set = dict_factor_lable_count.keys()\n",
    "    list_entropy = []\n",
    "    count = 0\n",
    "    for factor in factor_set:\n",
    "        lable_count_array=dict_factor_lable_count[factor]\n",
    "        factor_all_count = len(dict_index[factor])\n",
    "        sum = 0\n",
    "        for lable_count in lable_count_array:\n",
    "            for lable in lable_count.keys():\n",
    "                rate = lable_count[lable] / factor_all_count\n",
    "                sum += rate*math.log(rate,2)\n",
    "        list_entropy.append(-sum)\n",
    "    print(sum(list_entropy))\n",
    "    list_entropy\n",
    "        \n",
    "sum(calcu_gain(dict_factor_lable_count, dict_index))"
   ]
  },
  {
   "cell_type": "code",
   "execution_count": 96,
   "metadata": {},
   "outputs": [
    {
     "name": "stdout",
     "output_type": "stream",
     "text": [
      "({1: [{1: 6}], 0: [{0: 7}]}, {1: [{0}, {3}, {4}, {5}, {6}, {7}], 0: [{1}, {2}, {8}, {9}, {10}, {11}, {12}]})\n"
     ]
    }
   ],
   "source": [
    "print(divide_data(x,y,-1))"
   ]
  },
  {
   "cell_type": "code",
   "execution_count": 128,
   "metadata": {},
   "outputs": [
    {
     "data": {
      "text/plain": [
       "2.0"
      ]
     },
     "execution_count": 128,
     "metadata": {},
     "output_type": "execute_result"
    }
   ],
   "source": [
    "math.log(4,2)"
   ]
  },
  {
   "cell_type": "code",
   "execution_count": null,
   "metadata": {
    "collapsed": true
   },
   "outputs": [],
   "source": []
  }
 ],
 "metadata": {
  "kernelspec": {
   "display_name": "Python 3",
   "language": "python",
   "name": "python3"
  },
  "language_info": {
   "codemirror_mode": {
    "name": "ipython",
    "version": 3
   },
   "file_extension": ".py",
   "mimetype": "text/x-python",
   "name": "python",
   "nbconvert_exporter": "python",
   "pygments_lexer": "ipython3",
   "version": "3.6.1"
  }
 },
 "nbformat": 4,
 "nbformat_minor": 2
}
