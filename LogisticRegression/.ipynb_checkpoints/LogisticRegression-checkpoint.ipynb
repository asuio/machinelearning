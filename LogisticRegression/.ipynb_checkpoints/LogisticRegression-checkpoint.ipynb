{
 "cells": [
  {
   "cell_type": "markdown",
   "metadata": {},
   "source": [
    "学习的还是不好，过几天再来写这个...\n",
    "\n",
    "................................................................(神奇的分割线)\n",
    "### 逻辑回归（逻辑斯蒂回归）"
   ]
  },
  {
   "cell_type": "markdown",
   "metadata": {
    "collapsed": true
   },
   "source": [
    "很早就开了这个页面准备写逻辑回归了，但是奈何才疏学浅，加上看到的两本书写的有点晦涩，就这样耽搁下来了，最近又查了一些资料，觉得差不多了，不会的就一边写一边学了！"
   ]
  },
  {
   "cell_type": "markdown",
   "metadata": {},
   "source": [
    "要想学会这个东西，就得知道这个东西是干嘛的，这个东西是干嘛的呢？在林轩田的课程里，他举了患心脏病的风险的例子，这里就换个例子。现在我们把问题改成追妹子，哇咔咔，这个问题简直了。当我们向妹子表白以后，有些人希望妹子是个分类模型，接受or不接受。但是大多数的人承受能力，妹子还是回归模型比较好（毕竟被直接拒绝了好像会很难受），喜欢你，挺喜欢你的，有点喜欢你 ，百分之四十九喜欢你，不是很喜欢你，不喜欢你。这样我们是不是就能接受了一点呢。"
   ]
  },
  {
   "cell_type": "markdown",
   "metadata": {
    "collapsed": true
   },
   "source": [
    "以上来自别人的创意，但是追妹子这个事情是正在进行的，非常符合现在的我，哈哈哈哈哈！！！"
   ]
  },
  {
   "cell_type": "code",
   "execution_count": null,
   "metadata": {
    "collapsed": true
   },
   "outputs": [],
   "source": []
  }
 ],
 "metadata": {
  "kernelspec": {
   "display_name": "Python 3",
   "language": "python",
   "name": "python3"
  },
  "language_info": {
   "codemirror_mode": {
    "name": "ipython",
    "version": 3
   },
   "file_extension": ".py",
   "mimetype": "text/x-python",
   "name": "python",
   "nbconvert_exporter": "python",
   "pygments_lexer": "ipython3",
   "version": "3.6.1"
  }
 },
 "nbformat": 4,
 "nbformat_minor": 2
}
