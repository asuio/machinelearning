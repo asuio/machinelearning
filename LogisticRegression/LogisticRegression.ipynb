{
 "cells": [
  {
   "cell_type": "markdown",
   "metadata": {},
   "source": [
    "学习的还是不好，过几天再来写这个...\n",
    "\n",
    "................................................................(神奇的分割线)\n",
    "### 逻辑回归（逻辑斯蒂回归）"
   ]
  },
  {
   "cell_type": "markdown",
   "metadata": {
    "collapsed": true
   },
   "source": [
    "很早就开了这个页面准备写逻辑回归了，但是奈何才疏学浅，加上看到的两本书写的有点晦涩，就这样耽搁下来了，"
   ]
  },
  {
   "cell_type": "markdown",
   "metadata": {},
   "source": [
    "饿了，现回去吃饭。。。"
   ]
  },
  {
   "cell_type": "code",
   "execution_count": null,
   "metadata": {
    "collapsed": true
   },
   "outputs": [],
   "source": []
  }
 ],
 "metadata": {
  "kernelspec": {
   "display_name": "Python 3",
   "language": "python",
   "name": "python3"
  },
  "language_info": {
   "codemirror_mode": {
    "name": "ipython",
    "version": 3
   },
   "file_extension": ".py",
   "mimetype": "text/x-python",
   "name": "python",
   "nbconvert_exporter": "python",
   "pygments_lexer": "ipython3",
   "version": "3.6.1"
  }
 },
 "nbformat": 4,
 "nbformat_minor": 2
}
