{
 "cells": [
  {
   "cell_type": "markdown",
   "metadata": {},
   "source": [
    "### 感知机\n",
    "感知机是二分类的线性分类模型，输入空间是特征向量，输出为示例的类别，取+1和-1。\n",
    "在感知机中，将特种空间中的实例划分为某个超平面的两侧，感知机的问题就是求解这个超平面。"
   ]
  },
  {
   "cell_type": "markdown",
   "metadata": {},
   "source": [
    "### part 1"
   ]
  },
  {
   "cell_type": "markdown",
   "metadata": {},
   "source": [
    "假设特征空间是 $\\chi \\subseteq R^{n} $，输出空间 $\\varphi$={+1，-1},输入$x \\in \\chi$，表示实例的特征向量，输出 $y \\in\\varphi$,表示输出的类别。通过这些，我们可以得到下面的这个函数。\n",
    "$$f(x)=sign(\\varpi \\cdot x + b)$$"
   ]
  },
  {
   "cell_type": "markdown",
   "metadata": {},
   "source": [
    "在这个公式中，$\\varpi$和$b$称为感知机的模型参数，$\\varpi \\in R^n$叫做权值向量，$b \\in R$叫做偏执，$\\varpi\\cdot x$表示$\\varpi$和$x$的内积。sign是符号函数：\n",
    "$$ sign(x) = \\left\\{\n",
    "\\begin{aligned}\n",
    "+1 && x\\geq 0 \\\\\n",
    "-1 && x < 0\n",
    "\\end{aligned}\n",
    "\\right.\n",
    "$$"
   ]
  },
  {
   "cell_type": "markdown",
   "metadata": {
    "collapsed": true
   },
   "source": [
    "<img src=\"images/linear_seq.png\">"
   ]
  },
  {
   "cell_type": "markdown",
   "metadata": {},
   "source": [
    "如图，这个图形中有两种类别的数据，我们需要做的就是找到这样的一个面能够很好的将两种数据分割开，这就是感知机的作用与目的。"
   ]
  },
  {
   "cell_type": "markdown",
   "metadata": {
    "collapsed": true
   },
   "source": [
    "根据上面的$f(x)$，我们发现，当$sign(\\varpi \\cdot x + b)$的返回值是-1时，$sign(\\varpi \\cdot x + b) < 0$ ,反之，$sign(\\varpi \\cdot x + b)>0$。这样我们就定义下面的这个方程:"
   ]
  },
  {
   "cell_type": "markdown",
   "metadata": {
    "collapsed": true
   },
   "source": [
    "$$\\varpi \\cdot x + b=0$$\n"
   ]
  },
  {
   "cell_type": "markdown",
   "metadata": {},
   "source": [
    "这个方程对应特征空间$R^n$上的一个超平面，这个超平面的两侧，分别是正负两类样本。其中 $\\varpi$是这个超平面的法向量，b是这个超平面的截距。"
   ]
  },
  {
   "cell_type": "markdown",
   "metadata": {},
   "source": [
    "#### 补充：$\\varpi$为什么是平面$\\varpi \\cdot x + b = 0$的法向量\n",
    "在这个平面中找任意的点 $x_1$和$x_2$,我们可以得到这样两个等式："
   ]
  },
  {
   "cell_type": "markdown",
   "metadata": {},
   "source": [
    "$$ \\varpi \\cdot x_1 + b = 0 \\quad  (1) $$\n",
    "$$ \\varpi \\cdot x_2 + b = 0 \\quad  (2) $$"
   ]
  },
  {
   "cell_type": "markdown",
   "metadata": {},
   "source": [
    "方程(1)-方程(2)=$\\varpi \\cdot (x_1 -x_2) = 0$，这里我们可以看到，平面上任意的$x_1$和$x_2$与$\\varpi$的乘积都为0，所以$\\varpi$就是这个平面的法向量"
   ]
  },
  {
   "cell_type": "markdown",
   "metadata": {},
   "source": [
    "### part 2_1"
   ]
  },
  {
   "cell_type": "markdown",
   "metadata": {},
   "source": [
    "我们假设数据集$T =\\{(x_1,y_1),(x_2,y_2),,...,(x_n,y_n)\\}$， $x_i \\in\\chi \\subseteq R^{n} $，$y_i \\in\\varphi = \\{+1,-1\\}, i=1,2,3...n$，线性可分，即存在某个超平面，能够将这两类完全分开。超平面为：\n",
    "$$\\varpi \\cdot x + b=0$$"
   ]
  },
  {
   "cell_type": "markdown",
   "metadata": {
    "collapsed": true
   },
   "source": [
    "我们现在所要做的事情就是，找出这个超平面，也就是求出$\\varpi$和b这两个参数。这样就有$y_i = -1$时，$\\varpi x_i +b < 0$，反之，$\\varpi x_i +b > 0$"
   ]
  },
  {
   "cell_type": "markdown",
   "metadata": {},
   "source": [
    "我们在求这个超平面的过程中，我们可以先假定一个平面，$\\varpi_c \\cdot x + b_c = 0$，我们先来讨论以这个超平面分数据分错的情况，在分错的情况下，当 $y_i > 0$时，$\\varpi_c \\cdot x_i + b_c < 0$； $y_i < 0$时，$\\varpi_c \\cdot x_i + b_c > 0$。这样我们就得到了一个更加简单的公式，去判断这个平面是否是超平面："
   ]
  },
  {
   "cell_type": "markdown",
   "metadata": {
    "collapsed": true
   },
   "source": [
    "$$y_i(\\varpi_c \\cdot x_i + b_c) < 0 \\quad (3)$$\n"
   ]
  },
  {
   "cell_type": "markdown",
   "metadata": {},
   "source": [
    "当(3)成立的时候，就说明当前的这个超平面，不能完全的将数据集正确的分开。"
   ]
  },
  {
   "cell_type": "markdown",
   "metadata": {},
   "source": [
    "### part 2_2"
   ]
  },
  {
   "cell_type": "markdown",
   "metadata": {},
   "source": [
    "这样我们就知道了怎么判断这个平面是不是我们所需要的超平面了。下面将要介绍如果这个平面不是我们所需要的超平面，我们应该怎么调整这个超平面，即怎么去更新$\\varpi$和b。"
   ]
  },
  {
   "cell_type": "markdown",
   "metadata": {},
   "source": [
    "- 点到超平面的距离\n",
    "\n",
    "设$x_0$是空间中的一点，$S$是超平面，点到平面的距离为：\n",
    "$$\\frac{1}{\\parallel \\varpi \\parallel_2} |\\varpi \\cdot x_i + b|$$"
   ]
  },
  {
   "cell_type": "markdown",
   "metadata": {
    "collapsed": true
   },
   "source": [
    "- 损失函数\n",
    "\n",
    "为了求得超平面的参数$\\varpi$和b，需要去定义一个损失函数，利用损失函数去计算参数。在我们设计的损失函数的时候，首先想到的就是误分类的总点数，但是这样的损失函数与$\\varpi$和b是无关的，也就不是$\\varpi$和$b$的连续可导函数，我们没有办法使用这个损失函数去求解$\\varpi$和b。这样我们选择误分类的点到当前超平面的总距离来当做损失函数。"
   ]
  },
  {
   "cell_type": "markdown",
   "metadata": {},
   "source": [
    "根据上面的公式(3)我们能保证在分类错误的情况下，下面的公式成立：$$-y_i(\\varpi \\cdot x_i + b) > 0 $$"
   ]
  },
  {
   "cell_type": "markdown",
   "metadata": {},
   "source": [
    "这时，误分类的点到直线的距离就是：\n",
    "$$-\\frac{1}{\\parallel \\varpi \\parallel_2}y_i(\\varpi \\cdot x_i + b) $$"
   ]
  },
  {
   "cell_type": "markdown",
   "metadata": {},
   "source": [
    "这样，我们假设超平面$S$误分类的点的集合为$M$，那么所有的误分类的点到平面$S$的距离的总和就是：\n",
    "$$-\\frac{1}{\\parallel \\varpi \\parallel_2}\\sum_{x_i \\in M}y_i(\\varpi \\cdot x_i + b) $$"
   ]
  },
  {
   "cell_type": "markdown",
   "metadata": {},
   "source": [
    "不考虑$\\frac{1}{\\parallel \\varpi \\parallel_2}$，我们就得到了感知机的损失函数：\n",
    "$$L(\\varpi, b) = -\\sum_{x_i \\in M}y_i(\\varpi \\cdot x_i + b) $$"
   ]
  },
  {
   "cell_type": "markdown",
   "metadata": {},
   "source": [
    "这个就是感知机学习的经验风险函数。在这个损失函数中我们可以看到，$L(\\varpi, b)$一定是非负的，在有误分类的情况下，就是参数$\\varpi$和$b$的线性函数，即损失函数$L(\\varpi, b)$是$\\varpi$和$b$的连续可导函数。误分类的点越少，$L(\\varpi, b)$的值就越小，当没有误分类的点的时候，损失函数的值为0。"
   ]
  },
  {
   "cell_type": "markdown",
   "metadata": {},
   "source": [
    "### part 3\n"
   ]
  },
  {
   "cell_type": "markdown",
   "metadata": {},
   "source": [
    "由上面的分析可知，当损失函数的值越小，我们得到的超平面的分类效果就越好，所以我们就可以把超平面的计算，改为，求解 $\\varpi$和$b$，使得损失函数最小。"
   ]
  },
  {
   "cell_type": "markdown",
   "metadata": {},
   "source": [
    "$$\\min\\limits_{\\varpi,b}L(\\varpi, b) =-\\sum_{x_i \\in M}y_i(\\varpi \\cdot x_i + b) $$"
   ]
  },
  {
   "cell_type": "markdown",
   "metadata": {},
   "source": [
    "其中$M$为误分类的点的集合。"
   ]
  },
  {
   "cell_type": "markdown",
   "metadata": {},
   "source": [
    "- 梯度下降求解$\\varpi$和$b$\n",
    "\n",
    "        我会再写一篇文章来介绍梯度下降，这里就直接使用了"
   ]
  },
  {
   "cell_type": "code",
   "execution_count": null,
   "metadata": {
    "collapsed": true
   },
   "outputs": [],
   "source": []
  }
 ],
 "metadata": {
  "kernelspec": {
   "display_name": "Python 3",
   "language": "python",
   "name": "python3"
  },
  "language_info": {
   "codemirror_mode": {
    "name": "ipython",
    "version": 3
   },
   "file_extension": ".py",
   "mimetype": "text/x-python",
   "name": "python",
   "nbconvert_exporter": "python",
   "pygments_lexer": "ipython3",
   "version": "3.6.1"
  }
 },
 "nbformat": 4,
 "nbformat_minor": 2
}
