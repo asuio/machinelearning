{
 "cells": [
  {
   "cell_type": "markdown",
   "metadata": {},
   "source": [
    "### 感知机\n",
    "感知机是二分类的线性分类模型，输入空间是特征向量，输出为示例的类别，取+1和-1。\n",
    "在感知机中，将特种空间中的实例划分为某个超平面的两侧，感知机的问题就是求解这个超平面。"
   ]
  },
  {
   "cell_type": "markdown",
   "metadata": {},
   "source": [
    "### part 1"
   ]
  },
  {
   "cell_type": "markdown",
   "metadata": {},
   "source": [
    "假设特征空间是 $\\chi \\subseteq R^{n} $，输出空间 $\\varphi$={+1，-1},输入$x \\in \\chi$，表示实例的特征向量，输出 $y \\in\\varphi$,表示输出的类别。通过这些，我们可以得到下面的这个函数。\n",
    "$$f(x)=sign(\\varpi \\cdot x + b)$$"
   ]
  },
  {
   "cell_type": "markdown",
   "metadata": {},
   "source": [
    "在这个公式中，$\\varpi$和$b$称为感知机的模型参数，$\\varpi \\in R^n$叫做权值向量，$b \\in R$叫做偏执，$\\varpi\\cdot x$表示$\\varpi$和$x$的内积。sign是符号函数：\n",
    "$$ sign(x) = \\left\\{\n",
    "\\begin{aligned}\n",
    "+1 && x\\geq 0 \\\\\n",
    "-1 && x < 0\n",
    "\\end{aligned}\n",
    "\\right.\n",
    "$$"
   ]
  },
  {
   "cell_type": "markdown",
   "metadata": {
    "collapsed": true
   },
   "source": [
    "<img src=\"images/linear_seq.png\">"
   ]
  },
  {
   "cell_type": "markdown",
   "metadata": {},
   "source": [
    "如图，这个图形中有两种类别的数据，我们需要做的就是找到这样的一个面能够很好的将两种数据分割开，这就是感知机的作用与目的。"
   ]
  },
  {
   "cell_type": "markdown",
   "metadata": {
    "collapsed": true
   },
   "source": [
    "根据上面的$f(x)$，我们发现，当$sign(\\varpi \\cdot x + b)$的返回值是-1时，$sign(\\varpi \\cdot x + b) < 0$ ,反之，$sign(\\varpi \\cdot x + b)>0$。这样我们就定义下面的这个方程:"
   ]
  },
  {
   "cell_type": "markdown",
   "metadata": {
    "collapsed": true
   },
   "source": [
    "$$\\varpi \\cdot x + b=0$$\n"
   ]
  },
  {
   "cell_type": "markdown",
   "metadata": {},
   "source": [
    "这个方程对应特征空间$R^n$上的一个超平面，这个超平面的两侧，分别是正负两类样本。其中 $\\varpi$是这个超平面的法向量，b是这个超平面的截距。"
   ]
  },
  {
   "cell_type": "markdown",
   "metadata": {},
   "source": [
    "#### 补充：$\\varpi$为什么是平面$\\varpi \\cdot x + b = 0$的法向量\n",
    "在这个平面中找任意的点 $x_1$和$x_2$,我们可以得到这样两个等式："
   ]
  },
  {
   "cell_type": "markdown",
   "metadata": {},
   "source": [
    "$$ \\varpi \\cdot x_1 + b = 0 \\quad  (1) $$\n",
    "$$ \\varpi \\cdot x_2 + b = 0 \\quad  (2) $$"
   ]
  },
  {
   "cell_type": "markdown",
   "metadata": {},
   "source": [
    "方程(1)-方程(2)=$\\varpi \\cdot (x_1 -x_2) = 0$，这里我们可以看到，平面上任意的$x_1$和$x_2$与$\\varpi$的乘积都为0，所以$\\varpi$就是这个平面的法向量"
   ]
  },
  {
   "cell_type": "markdown",
   "metadata": {},
   "source": [
    "### part 2_1"
   ]
  },
  {
   "cell_type": "markdown",
   "metadata": {},
   "source": [
    "我们假设数据集$T =\\{(x_1,y_1),(x_2,y_2),,...,(x_n,y_n)\\}$， $x_i \\in\\chi \\subseteq R^{n} $，$y_i \\in\\varphi = \\{+1,-1\\}, i=1,2,3...n$，线性可分，即存在某个超平面，能够将这两类完全分开。超平面为：\n",
    "$$\\varpi \\cdot x + b=0$$"
   ]
  },
  {
   "cell_type": "markdown",
   "metadata": {
    "collapsed": true
   },
   "source": [
    "我们现在所要做的事情就是，找出这个超平面，也就是求出$\\varpi$和b这两个参数。这样就有$y_i = -1$时，$\\varpi x_i +b < 0$，反之，$\\varpi x_i +b > 0$"
   ]
  },
  {
   "cell_type": "markdown",
   "metadata": {},
   "source": [
    "我们在求这个超平面的过程中，我们可以先假定一个平面，$\\varpi_c \\cdot x + b_c = 0$，我们先来讨论以这个超平面分数据分错的情况，在分错的情况下，当 $y_i > 0$时，$\\varpi_c \\cdot x_i + b_c < 0$； $y_i < 0$时，$\\varpi_c \\cdot x_i + b_c > 0$。这样我们就得到了一个更加简单的公式，去判断这个平面是否是超平面："
   ]
  },
  {
   "cell_type": "markdown",
   "metadata": {
    "collapsed": true
   },
   "source": [
    "$$y_i(\\varpi_c \\cdot x_i + b_c) < 0 \\quad (3)$$\n"
   ]
  },
  {
   "cell_type": "markdown",
   "metadata": {},
   "source": [
    "当(3)成立的时候，就说明当前的这个超平面，不能完全的将数据集正确的分开。"
   ]
  },
  {
   "cell_type": "markdown",
   "metadata": {},
   "source": [
    "### part 2_2"
   ]
  },
  {
   "cell_type": "markdown",
   "metadata": {},
   "source": [
    "这样我们就知道了怎么判断这个平面是不是我们所需要的超平面了。下面将要介绍如果这个平面不是我们所需要的超平面，我们应该怎么调整这个超平面，即怎么去更新$\\varpi$和b。"
   ]
  },
  {
   "cell_type": "markdown",
   "metadata": {},
   "source": [
    "- 点到超平面的距离\n",
    "\n",
    "设$x_0$是空间中的一点，$S$是超平面，点到平面的距离为：\n",
    "$$\\parallel \\varpi \\parallel$$"
   ]
  },
  {
   "cell_type": "code",
   "execution_count": null,
   "metadata": {
    "collapsed": true
   },
   "outputs": [],
   "source": []
  }
 ],
 "metadata": {
  "kernelspec": {
   "display_name": "Python 3",
   "language": "python",
   "name": "python3"
  },
  "language_info": {
   "codemirror_mode": {
    "name": "ipython",
    "version": 3
   },
   "file_extension": ".py",
   "mimetype": "text/x-python",
   "name": "python",
   "nbconvert_exporter": "python",
   "pygments_lexer": "ipython3",
   "version": "3.6.1"
  }
 },
 "nbformat": 4,
 "nbformat_minor": 2
}
