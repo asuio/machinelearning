{
 "cells": [
  {
   "cell_type": "markdown",
   "metadata": {},
   "source": [
    "### 感知机\n",
    "感知机是二分类的线性分类模型，输入空间是特征向量，输出为示例的类别，取+1和-1。\n",
    "在感知机中，将特种空间中的实例划分为某个超平面的两侧，感知机的问题就是求解这个超平面。"
   ]
  },
  {
   "cell_type": "markdown",
   "metadata": {},
   "source": [
    "假设特征空间是 $\\chi \\subseteq R^{n} $，输出空间 $\\varphi$={+1，-1},输入$x \\in \\chi$，表示实例的特征向量，输出 $y \\in\\varphi$,表示输出的类别。通过这些，我们可以得到下面的这个函数。\n",
    "$$f(x)=sign(\\varpi·x + b)$$"
   ]
  },
  {
   "cell_type": "markdown",
   "metadata": {},
   "source": [
    "在这个公式中，$\\varpi$和$b$称为感知机的模型参数，$\\varpi \\in R^n$叫做权值向量，$b \\in R$叫做偏执，$\\varpi·x$表示$\\varpi$和$x$的内积。sign是符号函数：\n",
    "$$ sign(x) = \\left\\{\n",
    "\\begin{aligned}\n",
    "+1 && x\\geq 0 \\\\\n",
    "-1 && x < 0\n",
    "\\end{aligned}\n",
    "\\right.\n",
    "$$"
   ]
  },
  {
   "cell_type": "markdown",
   "metadata": {
    "collapsed": true
   },
   "source": [
    "<img src=\"images/linear_seq.png\">"
   ]
  },
  {
   "cell_type": "markdown",
   "metadata": {},
   "source": [
    "如图，这个图形中有两种类别的数据，我们需要做的就是找到这样的一个面能够很好的将两种数据分割开，这就是感知机的作用与目的。"
   ]
  },
  {
   "cell_type": "markdown",
   "metadata": {
    "collapsed": true
   },
   "source": [
    "fasdfasd"
   ]
  },
  {
   "cell_type": "code",
   "execution_count": null,
   "metadata": {
    "collapsed": true
   },
   "outputs": [],
   "source": []
  }
 ],
 "metadata": {
  "kernelspec": {
   "display_name": "Python 3",
   "language": "python",
   "name": "python3"
  },
  "language_info": {
   "codemirror_mode": {
    "name": "ipython",
    "version": 3
   },
   "file_extension": ".py",
   "mimetype": "text/x-python",
   "name": "python",
   "nbconvert_exporter": "python",
   "pygments_lexer": "ipython3",
   "version": "3.6.1"
  }
 },
 "nbformat": 4,
 "nbformat_minor": 2
}
