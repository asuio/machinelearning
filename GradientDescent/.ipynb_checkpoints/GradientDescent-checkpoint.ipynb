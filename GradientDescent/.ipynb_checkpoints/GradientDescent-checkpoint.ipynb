{
 "cells": [
  {
   "cell_type": "markdown",
   "metadata": {},
   "source": [
    "# 梯度下降\n",
    "\t最近一直在学习机器学习的相关知识，经常遇到梯度下降这个概念，以前也看过这个概念，每次都是大致看一下就过去了，把他当做一个黑盒函数，对数据操作一下，我们需要求的结果就出来了。俗话说，知其然要知其所以然，所以最近就好好的研究了一下这个东西，最后我得出结论，我大一下的高数都学到狗肚子里面去了，神TM知道我大一下干啥去了，可能脑子瘫痪了也说不定。\n"
   ]
  },
  {
   "cell_type": "markdown",
   "metadata": {},
   "source": [
    "- 方向导数：\n",
    "\n",
    "函数$z=f(x,y)$在点$P_0(x_0,y_0)$处的偏导数$f_x(x_0,y_0)$，$f_y(x_0,y_0)$分别表示函数$f(x,y)$在点$P_0(x_0,y_0)$沿着$x$轴方向与$y$轴方向的变换率，但是在$P_0$点可以指向各种不同的方向，这些不同的方面的函数的变化率就需要`方向导数`来刻画。\n"
   ]
  },
  {
   "cell_type": "markdown",
   "metadata": {},
   "source": [
    "过点$P_0$引射线l，设与l同向的单位向量为$l^0$,$l^0$与$x$轴与$y$轴的夹角分别为$\\alpha$和$\\beta$，$l^0=(cos\\alpha, cos\\beta)$"
   ]
  },
  {
   "cell_type": "markdown",
   "metadata": {},
   "source": [
    "#### 梯度\n"
   ]
  },
  {
   "cell_type": "markdown",
   "metadata": {},
   "source": [
    "\n",
    "#### 方向导数与梯度的关系"
   ]
  },
  {
   "cell_type": "code",
   "execution_count": null,
   "metadata": {
    "collapsed": true
   },
   "outputs": [],
   "source": []
  }
 ],
 "metadata": {
  "kernelspec": {
   "display_name": "Python 3",
   "language": "python",
   "name": "python3"
  },
  "language_info": {
   "codemirror_mode": {
    "name": "ipython",
    "version": 3
   },
   "file_extension": ".py",
   "mimetype": "text/x-python",
   "name": "python",
   "nbconvert_exporter": "python",
   "pygments_lexer": "ipython3",
   "version": "3.6.1"
  }
 },
 "nbformat": 4,
 "nbformat_minor": 2
}
