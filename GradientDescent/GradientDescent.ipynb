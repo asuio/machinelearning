{
 "cells": [
  {
   "cell_type": "markdown",
   "metadata": {},
   "source": [
    "# 梯度下降\n",
    "\t最近一直在学习机器学习的相关知识，经常遇到梯度下降这个概念，以前也看过这个概念，每次都是大致看一下就过去了，把他当做一个黑盒函数，对数据操作一下，我们需要求的结果就出来了。俗话说，知其然要知其所以然，所以最近就好好的研究了一下这个东西，最后我得出结论，我大一下的高数都学到狗肚子里面去了，神TM知道我大一下干啥去了，可能脑子瘫痪了也说不定。\n",
    "\n",
    "梯度：是一个向量，沿着梯度的方向，函数增长的最快；沿着梯度相反的方向，函数减小最快。"
   ]
  },
  {
   "cell_type": "markdown",
   "metadata": {},
   "source": [
    "- 方向导数：\n",
    "\n",
    "函数$z=f(x,y)$在点$P_0(x_0,y_0)$处的偏导数$f_x(x_0,y_0)$，$f_y(x_0,y_0)$分别表示函数$f(x,y)$在点$P_0(x_0,y_0)$沿着$x$轴方向与$y$轴方向的变换率，但是在$P_0$点可以指向各种不同的方向，这些不同的方面的函数的变化率就需要`方向导数`来刻画。\n"
   ]
  },
  {
   "cell_type": "markdown",
   "metadata": {},
   "source": [
    "过点$P_0$引射线l，设与l同向的单位向量为$l^0$,$l^0$与$x$轴与$y$轴的夹角分别为$\\alpha$和$\\beta$，$l^0=(cos\\alpha, cos\\beta)$。设函数$z=f(x,y)$在$P_0(x_0,y_0)$的某一个邻域内有定义，在射线l上取一点$P(x_0+\\triangledown x, y_0 + \\triangledown y)$。函数增量$\\triangledown z = f(x_0+\\triangledown x, y_0 + \\triangledown y) - f(x_0, y_0)$，$P$和$P_0$两点间的距离$\\rho= \\sqrt{(\\triangledown x)^2 + (\\triangledown y)^2}$。函数增量$\\triangledown z$与距离$\\rho$的比值称为$f(x,y)$在l方向的平均变化率。如果当$P$在射线上趋近与$P_0$的时候，如果平均变化率的极限存在，这个就先就是函数$f(x,y)$在点$P_0$处沿着方向l的方向导数，记为$\\frac{\\partial f}{\\partial l}\\lvert_{(x=x_0,y=y_0)}$。"
   ]
  },
  {
   "cell_type": "markdown",
   "metadata": {},
   "source": [
    "方向导数的公式：\n",
    "$$\\frac{\\partial f}{\\partial l}\\lvert_{(x=x_0,y=y_0)}=\\lim_\\limits {\\rho \\to 0}\\frac{f(x_0+\\triangledown x, y_0 + \\triangledown y) - f(x_0, y_0)}{\\rho}$$"
   ]
  },
  {
   "cell_type": "markdown",
   "metadata": {},
   "source": [
    "由于$\\triangledown x = \\rho cos \\alpha$，$\\triangledown y = \\rho cos \\beta$，所以方向导数还可以表示为：\n",
    "\n",
    "$$\\frac{\\partial f}{\\partial l}\\lvert_{(x=x_0,y=y_0)}=\\lim_\\limits {\\rho \\to 0}\\frac{f(x_0+\\rho cos \\alpha, y_0 + \\rho cos \\beta) - f(x_0, y_0)}{\\rho}$$"
   ]
  },
  {
   "cell_type": "markdown",
   "metadata": {},
   "source": [
    "总结1：在点$P_0$处，如果方向导数大于0，那就说明在点$P_0$处沿着l方向，函数是单调递增的，反之则是单调递减的。"
   ]
  },
  {
   "cell_type": "markdown",
   "metadata": {},
   "source": [
    "这里的求解方向导数的方法非常的麻烦，下面给出另一种方法。如果函数$f(x,y)$在点$(x,y)$处可微分，则在点$(x,y)$处沿着任意方向的方向导数都存在，方向导数为：\n",
    "$$\\frac{\\partial f}{\\partial l}=\\triangledown f(x,y) \\cdot l^0 =\\frac{\\partial f}{\\partial x} cos\\alpha +\\frac{\\partial f}{\\partial y} cos\\beta \\quad (1)$$\n",
    "其中$l^0=(cos\\alpha,cos\\beta)$是与l同方向的单位向量。$cos\\alpha$，$cos\\beta$是$l^0$的方向余弦。"
   ]
  },
  {
   "cell_type": "markdown",
   "metadata": {},
   "source": [
    "总结2：方向导数就是函数某一点沿着某个方向的变化率，方向导数越大，在这个方向，函数值的增长就越快。"
   ]
  },
  {
   "cell_type": "markdown",
   "metadata": {},
   "source": [
    "#### 梯度\n"
   ]
  },
  {
   "cell_type": "markdown",
   "metadata": {},
   "source": [
    "设函数$z=f(x,y)$在平面区域$D$内具有一阶连续偏导数，则对于任意一点$(x,y)\\in D$，都可以得到一个向量：\n",
    "$$\\frac {\\partial f}{\\partial x}i + \\frac {\\partial f}{\\partial y}j $$"
   ]
  },
  {
   "cell_type": "markdown",
   "metadata": {},
   "source": [
    "这个向量称为函数$z=f(x,y)$在点$P(x,y)$的梯度，记作grad$(x,y)$，即：\n",
    "$$grad\\quad f(x,y) =\\frac {\\partial f}{\\partial x}i + \\frac {\\partial f}{\\partial y}j=(\\frac {\\partial f}{\\partial x}, \\frac {\\partial f}{\\partial y}) \\quad (2)$$"
   ]
  },
  {
   "cell_type": "markdown",
   "metadata": {},
   "source": [
    "现在在公式(2)中，没有办法得到前面提到的关于梯度的结论。下面将会在方向导数与梯度的关系中，得到梯度的结论。"
   ]
  },
  {
   "cell_type": "markdown",
   "metadata": {},
   "source": [
    "#### 方向导数与梯度的关系"
   ]
  },
  {
   "cell_type": "markdown",
   "metadata": {
    "collapsed": true
   },
   "source": [
    "首先，对方向导数的公式(1)进行一下修改，将他们改为向量的点乘：\n",
    "$$\\frac{\\partial f}{\\partial l}=\\triangledown f(x,y) \\cdot l^0 =\\frac{\\partial f}{\\partial x} cos\\alpha +\\frac{\\partial f}{\\partial y} cos\\beta = (\\frac{\\partial f}{\\partial x} ,\\frac{\\partial f}{\\partial y})\\cdot( cos\\alpha , cos\\beta) \\quad (3) $$\n",
    "当公式(1)变成(3)的时候，就会发现，在求方向导数的公式中，其中有一项就是梯度，这样就使得方向导数和梯度产生了联系。"
   ]
  },
  {
   "cell_type": "markdown",
   "metadata": {},
   "source": [
    "在公式(3)中，方向导数变成了两个向量点乘，我们都知道两个向量点乘等于两个分别求模长再乘上这两个向量之间的夹角的余弦。\n",
    "\n",
    "$$\\frac{\\partial f}{\\partial l}=|(\\frac{\\partial f}{\\partial x} ,\\frac{\\partial f}{\\partial y})|\\cdot|( cos\\alpha , cos\\beta)|\\cdot cos\\theta \\quad (4) $$"
   ]
  },
  {
   "cell_type": "markdown",
   "metadata": {},
   "source": [
    "其中$\\theta$为两个向量的夹角，在公式(1)的条件中我们知道，向量$(cos\\alpha , cos\\beta）=l^0$是单位向量，而单位向量的模长为1,这样公式(4)就变为：\n",
    "$$\\frac{\\partial f}{\\partial l}=|(\\frac{\\partial f}{\\partial x} ,\\frac{\\partial f}{\\partial y})|\\cdot cos\\theta \\quad (5) $$"
   ]
  },
  {
   "cell_type": "markdown",
   "metadata": {},
   "source": [
    "这时我们就发现了，原来方向导数，就是函数梯度这个向量与某个方向的夹角乘以梯度的模长。这时，再去看梯度的定义，也就是公式(2)之前的话，我们发现了更加有趣的事情。当我们在求某一个点的梯度的时候，函数的定义，我们知道，要求梯度的点的坐标，我们也知道，也就是说梯度这个向量，以及这个向量的模长我们都知道了。而且这个点上，梯度与梯度的模长这两个值是不变的。"
   ]
  },
  {
   "cell_type": "markdown",
   "metadata": {},
   "source": [
    "这样我们就发现了，原来方向导数的大小，只与这个夹角$\\theta$有关。根据余弦函数的规律，我们知道，当这个夹角是0的时候，$cos\\theta=1$为最大值，这时的方向导数是最大的，也就是说，在这个点上，函数沿着梯度的方向增长的最快，沿着梯度相反的方向，函数减少最快。"
   ]
  },
  {
   "cell_type": "markdown",
   "metadata": {},
   "source": [
    "这样就与我们上面在方向导数部分的两个总结一致了，这就是梯度的作用。"
   ]
  },
  {
   "cell_type": "markdown",
   "metadata": {},
   "source": [
    "#### 梯度下降"
   ]
  },
  {
   "cell_type": "markdown",
   "metadata": {},
   "source": [
    "在机器学习中，我们经常要做的一件事就是最小化损失函数，得到最小的损失函数和对应的参数。在如果我们沿着梯度的方向上升的话，我们将会得到一个最大值/极大值；如果我们沿着梯度的反方向下降的话，我们将会得到一个最小值/极小值。"
   ]
  },
  {
   "cell_type": "markdown",
   "metadata": {},
   "source": [
    "从上面的解释中，我们知道，梯度总是基于当前的点向变化最快的方向上升（下降），这样就很容易走进局部最优解。比如一座M型的山，假如左边的山峰高于右边的山峰，假如我们现在恰好在右边的山腰上，那样我们就很有可能走到右边山峰的山顶上，形成局部最优的情况。对于这种情况，可以将目标函数转化为凸函数，有些不能转化为凸函数的，我们就要自己权衡这样的代价了。"
   ]
  },
  {
   "cell_type": "markdown",
   "metadata": {},
   "source": [
    "学习率(learning rate)"
   ]
  },
  {
   "cell_type": "markdown",
   "metadata": {},
   "source": []
  }
 ],
 "metadata": {
  "kernelspec": {
   "display_name": "Python 3",
   "language": "python",
   "name": "python3"
  },
  "language_info": {
   "codemirror_mode": {
    "name": "ipython",
    "version": 3
   },
   "file_extension": ".py",
   "mimetype": "text/x-python",
   "name": "python",
   "nbconvert_exporter": "python",
   "pygments_lexer": "ipython3",
   "version": "3.6.1"
  }
 },
 "nbformat": 4,
 "nbformat_minor": 2
}
