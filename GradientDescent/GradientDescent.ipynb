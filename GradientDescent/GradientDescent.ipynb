{
 "cells": [
  {
   "cell_type": "markdown",
   "metadata": {},
   "source": [
    "# 梯度下降\n",
    "\t最近一直在学习机器学习的相关知识，经常遇到梯度下降这个概念，以前也看过这个概念，每次都是大致看一下就过去了，把他当做一个黑盒函数，对数据操作一下，我们需要求的结果就出来了。俗话说，知其然要知其所以然，所以最近就好好的研究了一下这个东西，最后我得出结论，我大一下的高数都学到狗肚子里面去了，神TM知道我大一下干啥去了，可能脑子瘫痪了也说不定。"
   ]
  },
  {
   "cell_type": "markdown",
   "metadata": {},
   "source": [
    "- 方向导数：\n",
    "\n",
    "函数$z=f(x,y)$在点$P_0(x_0,y_0)$处的偏导数$f_x(x_0,y_0)$，$f_y(x_0,y_0)$分别表示函数$f(x,y)$在点$P_0(x_0,y_0)$沿着$x$轴方向与$y$轴方向的变换率，但是在$P_0$点可以指向各种不同的方向，这些不同的方面的函数的变化率就需要`方向导数`来刻画。\n"
   ]
  },
  {
   "cell_type": "markdown",
   "metadata": {},
   "source": [
    "过点$P_0$引射线l，设与l同向的单位向量为$l^0$,$l^0$与$x$轴与$y$轴的夹角分别为$\\alpha$和$\\beta$，$l^0=(cos\\alpha, cos\\beta)$。设函数$z=f(x,y)$在$P_0(x_0,y_0)$的某一个邻域内有定义，在射线l上取一点$P(x_0+\\triangledown x, y_0 + \\triangledown y)$。函数增量$\\triangledown z = f(x_0+\\triangledown x, y_0 + \\triangledown y) - f(x_0, y_0)$，$P$和$P_0$两点间的距离$\\rho= \\sqrt{(\\triangledown x)^2 + (\\triangledown y)^2}$。函数增量$\\triangledown z$与距离$\\rho$的比值称为$f(x,y)$在l方向的平均变化率。如果当$P$在射线上趋近与$P_0$的时候，如果平均变化率的极限存在，这个就先就是函数$f(x,y)$在点$P_0$处沿着方向l的方向导数，记为$\\frac{\\partial f}{\\partial l}\\lvert_{(x=x_0,y=y_0)}$。"
   ]
  },
  {
   "cell_type": "markdown",
   "metadata": {},
   "source": [
    "方向导数的公式：\n",
    "$$\\frac{\\partial f}{\\partial l}\\lvert_{(x=x_0,y=y_0)}=\\lim_\\limits {\\rho \\to 0}\\frac{f(x_0+\\triangledown x, y_0 + \\triangledown y) - f(x_0, y_0)}{\\rho}$$"
   ]
  },
  {
   "cell_type": "markdown",
   "metadata": {},
   "source": [
    "由于$\\triangledown x = \\rho cos \\alpha$，$\\triangledown y = \\rho cos \\beta$，所以方向导数还可以表示为：\n",
    "\n",
    "$$\\frac{\\partial f}{\\partial l}\\lvert_{(x=x_0,y=y_0)}=\\lim_\\limits {\\rho \\to 0}\\frac{f(x_0+\\rho cos \\alpha, y_0 + \\rho cos \\beta) - f(x_0, y_0)}{\\rho}$$"
   ]
  },
  {
   "cell_type": "markdown",
   "metadata": {},
   "source": [
    "在点$P_0$处，如果方向导数大于0，那就说明在点$P_0$处沿着l方向，函数是单调递增的，反之则是单调递减的。"
   ]
  },
  {
   "cell_type": "markdown",
   "metadata": {},
   "source": [
    "这里的求解方向导数的方法非常的麻烦，下面给出另一种方法。如果函数$f(x,y)$在点$(x,y)$处可微分，则在点$(x,y)$处沿着任意方向的方向导数都存在，方向导数为：\n",
    "$$\\frac{\\partial f}{\\partial l}=\\triangledown f(x,y) \\cdot l^0 =\\frac{\\partial f}{\\partial x} cos\\alpha +\\frac{\\partial f}{\\partial y} cos\\beta$$"
   ]
  },
  {
   "cell_type": "markdown",
   "metadata": {},
   "source": [
    "#### 梯度\n"
   ]
  },
  {
   "cell_type": "markdown",
   "metadata": {},
   "source": [
    "\n",
    "#### 方向导数与梯度的关系"
   ]
  },
  {
   "cell_type": "code",
   "execution_count": null,
   "metadata": {
    "collapsed": true
   },
   "outputs": [],
   "source": []
  }
 ],
 "metadata": {
  "kernelspec": {
   "display_name": "Python 3",
   "language": "python",
   "name": "python3"
  },
  "language_info": {
   "codemirror_mode": {
    "name": "ipython",
    "version": 3
   },
   "file_extension": ".py",
   "mimetype": "text/x-python",
   "name": "python",
   "nbconvert_exporter": "python",
   "pygments_lexer": "ipython3",
   "version": "3.6.1"
  }
 },
 "nbformat": 4,
 "nbformat_minor": 2
}
